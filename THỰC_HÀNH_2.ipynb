{
  "nbformat": 4,
  "nbformat_minor": 0,
  "metadata": {
    "colab": {
      "name": "THỰC HÀNH 2.ipynb",
      "provenance": [],
      "authorship_tag": "ABX9TyMbTAryxQrnQ3wRifUOe+xz",
      "include_colab_link": true
    },
    "kernelspec": {
      "name": "python3",
      "display_name": "Python 3"
    },
    "language_info": {
      "name": "python"
    }
  },
  "cells": [
    {
      "cell_type": "markdown",
      "metadata": {
        "id": "view-in-github",
        "colab_type": "text"
      },
      "source": [
        "<a href=\"https://colab.research.google.com/github/ducnguyen1704/TienXuLyDuLieu/blob/master/TH%E1%BB%B0C_H%C3%80NH_2.ipynb\" target=\"_parent\"><img src=\"https://colab.research.google.com/assets/colab-badge.svg\" alt=\"Open In Colab\"/></a>"
      ]
    },
    {
      "cell_type": "markdown",
      "source": [
        "# [Thực hành] Chuẩn hoá dữ liệu với Min-Max Scaling"
      ],
      "metadata": {
        "id": "MEyfJGNf7nf8"
      }
    },
    {
      "cell_type": "code",
      "execution_count": 1,
      "metadata": {
        "id": "jl5ciDnu7k5h"
      },
      "outputs": [],
      "source": [
        "import pandas as pd\n",
        "import numpy as np\n",
        "import matplotlib.pyplot as plt\n",
        "import seaborn as sns\n",
        "from sklearn.preprocessing import MinMaxScaler"
      ]
    },
    {
      "cell_type": "code",
      "source": [
        "# Khởi tạo dữ liệu\n",
        "# tạo các cột theo các phần phối khác nhau\n",
        "df = pd.DataFrame({ \n",
        "    'beta': np.random.beta(5, 1, 1000) * 60,        # beta\n",
        "    'exponential': np.random.exponential(10, 1000), # exponential\n",
        "    'normal_p': np.random.normal(10, 2, 1000),      # normal platykurtic\n",
        "    'normal_l': np.random.normal(10, 10, 1000),     # normal leptokurtic\n",
        "})"
      ],
      "metadata": {
        "id": "unLABXGi7rzr"
      },
      "execution_count": 2,
      "outputs": []
    },
    {
      "cell_type": "code",
      "source": [
        "# thêm dữ liệu được tạo theo phân phối nhị thức\n",
        "first_half = np.random.normal(20, 3, 500) \n",
        "second_half = np.random.normal(-20, 3, 500) \n",
        "bimodal = np.concatenate([first_half, second_half])\n",
        "\n",
        "df['bimodal'] = bimodal"
      ],
      "metadata": {
        "id": "dqgRtUhQ7w6R"
      },
      "execution_count": 3,
      "outputs": []
    },
    {
      "cell_type": "code",
      "source": [
        "# hiển thị dữ liệu\n",
        "df.head()"
      ],
      "metadata": {
        "colab": {
          "base_uri": "https://localhost:8080/",
          "height": 206
        },
        "id": "uV_Tu5Y97xzD",
        "outputId": "01bc4752-4f89-485f-9984-fb591af47811"
      },
      "execution_count": 4,
      "outputs": [
        {
          "output_type": "execute_result",
          "data": {
            "text/html": [
              "\n",
              "  <div id=\"df-d5ac7651-859c-434a-82ef-1918b9560026\">\n",
              "    <div class=\"colab-df-container\">\n",
              "      <div>\n",
              "<style scoped>\n",
              "    .dataframe tbody tr th:only-of-type {\n",
              "        vertical-align: middle;\n",
              "    }\n",
              "\n",
              "    .dataframe tbody tr th {\n",
              "        vertical-align: top;\n",
              "    }\n",
              "\n",
              "    .dataframe thead th {\n",
              "        text-align: right;\n",
              "    }\n",
              "</style>\n",
              "<table border=\"1\" class=\"dataframe\">\n",
              "  <thead>\n",
              "    <tr style=\"text-align: right;\">\n",
              "      <th></th>\n",
              "      <th>beta</th>\n",
              "      <th>exponential</th>\n",
              "      <th>normal_p</th>\n",
              "      <th>normal_l</th>\n",
              "      <th>bimodal</th>\n",
              "    </tr>\n",
              "  </thead>\n",
              "  <tbody>\n",
              "    <tr>\n",
              "      <th>0</th>\n",
              "      <td>53.527514</td>\n",
              "      <td>0.946625</td>\n",
              "      <td>7.766046</td>\n",
              "      <td>39.783040</td>\n",
              "      <td>19.124226</td>\n",
              "    </tr>\n",
              "    <tr>\n",
              "      <th>1</th>\n",
              "      <td>39.630105</td>\n",
              "      <td>25.896138</td>\n",
              "      <td>9.383602</td>\n",
              "      <td>2.305013</td>\n",
              "      <td>23.639942</td>\n",
              "    </tr>\n",
              "    <tr>\n",
              "      <th>2</th>\n",
              "      <td>55.982432</td>\n",
              "      <td>7.186827</td>\n",
              "      <td>10.083769</td>\n",
              "      <td>10.326920</td>\n",
              "      <td>20.624685</td>\n",
              "    </tr>\n",
              "    <tr>\n",
              "      <th>3</th>\n",
              "      <td>44.191528</td>\n",
              "      <td>13.310224</td>\n",
              "      <td>10.285897</td>\n",
              "      <td>-1.032255</td>\n",
              "      <td>18.564488</td>\n",
              "    </tr>\n",
              "    <tr>\n",
              "      <th>4</th>\n",
              "      <td>59.855174</td>\n",
              "      <td>3.712880</td>\n",
              "      <td>11.725063</td>\n",
              "      <td>16.332172</td>\n",
              "      <td>22.782552</td>\n",
              "    </tr>\n",
              "  </tbody>\n",
              "</table>\n",
              "</div>\n",
              "      <button class=\"colab-df-convert\" onclick=\"convertToInteractive('df-d5ac7651-859c-434a-82ef-1918b9560026')\"\n",
              "              title=\"Convert this dataframe to an interactive table.\"\n",
              "              style=\"display:none;\">\n",
              "        \n",
              "  <svg xmlns=\"http://www.w3.org/2000/svg\" height=\"24px\"viewBox=\"0 0 24 24\"\n",
              "       width=\"24px\">\n",
              "    <path d=\"M0 0h24v24H0V0z\" fill=\"none\"/>\n",
              "    <path d=\"M18.56 5.44l.94 2.06.94-2.06 2.06-.94-2.06-.94-.94-2.06-.94 2.06-2.06.94zm-11 1L8.5 8.5l.94-2.06 2.06-.94-2.06-.94L8.5 2.5l-.94 2.06-2.06.94zm10 10l.94 2.06.94-2.06 2.06-.94-2.06-.94-.94-2.06-.94 2.06-2.06.94z\"/><path d=\"M17.41 7.96l-1.37-1.37c-.4-.4-.92-.59-1.43-.59-.52 0-1.04.2-1.43.59L10.3 9.45l-7.72 7.72c-.78.78-.78 2.05 0 2.83L4 21.41c.39.39.9.59 1.41.59.51 0 1.02-.2 1.41-.59l7.78-7.78 2.81-2.81c.8-.78.8-2.07 0-2.86zM5.41 20L4 18.59l7.72-7.72 1.47 1.35L5.41 20z\"/>\n",
              "  </svg>\n",
              "      </button>\n",
              "      \n",
              "  <style>\n",
              "    .colab-df-container {\n",
              "      display:flex;\n",
              "      flex-wrap:wrap;\n",
              "      gap: 12px;\n",
              "    }\n",
              "\n",
              "    .colab-df-convert {\n",
              "      background-color: #E8F0FE;\n",
              "      border: none;\n",
              "      border-radius: 50%;\n",
              "      cursor: pointer;\n",
              "      display: none;\n",
              "      fill: #1967D2;\n",
              "      height: 32px;\n",
              "      padding: 0 0 0 0;\n",
              "      width: 32px;\n",
              "    }\n",
              "\n",
              "    .colab-df-convert:hover {\n",
              "      background-color: #E2EBFA;\n",
              "      box-shadow: 0px 1px 2px rgba(60, 64, 67, 0.3), 0px 1px 3px 1px rgba(60, 64, 67, 0.15);\n",
              "      fill: #174EA6;\n",
              "    }\n",
              "\n",
              "    [theme=dark] .colab-df-convert {\n",
              "      background-color: #3B4455;\n",
              "      fill: #D2E3FC;\n",
              "    }\n",
              "\n",
              "    [theme=dark] .colab-df-convert:hover {\n",
              "      background-color: #434B5C;\n",
              "      box-shadow: 0px 1px 3px 1px rgba(0, 0, 0, 0.15);\n",
              "      filter: drop-shadow(0px 1px 2px rgba(0, 0, 0, 0.3));\n",
              "      fill: #FFFFFF;\n",
              "    }\n",
              "  </style>\n",
              "\n",
              "      <script>\n",
              "        const buttonEl =\n",
              "          document.querySelector('#df-d5ac7651-859c-434a-82ef-1918b9560026 button.colab-df-convert');\n",
              "        buttonEl.style.display =\n",
              "          google.colab.kernel.accessAllowed ? 'block' : 'none';\n",
              "\n",
              "        async function convertToInteractive(key) {\n",
              "          const element = document.querySelector('#df-d5ac7651-859c-434a-82ef-1918b9560026');\n",
              "          const dataTable =\n",
              "            await google.colab.kernel.invokeFunction('convertToInteractive',\n",
              "                                                     [key], {});\n",
              "          if (!dataTable) return;\n",
              "\n",
              "          const docLinkHtml = 'Like what you see? Visit the ' +\n",
              "            '<a target=\"_blank\" href=https://colab.research.google.com/notebooks/data_table.ipynb>data table notebook</a>'\n",
              "            + ' to learn more about interactive tables.';\n",
              "          element.innerHTML = '';\n",
              "          dataTable['output_type'] = 'display_data';\n",
              "          await google.colab.output.renderOutput(dataTable, element);\n",
              "          const docLink = document.createElement('div');\n",
              "          docLink.innerHTML = docLinkHtml;\n",
              "          element.appendChild(docLink);\n",
              "        }\n",
              "      </script>\n",
              "    </div>\n",
              "  </div>\n",
              "  "
            ],
            "text/plain": [
              "        beta  exponential   normal_p   normal_l    bimodal\n",
              "0  53.527514     0.946625   7.766046  39.783040  19.124226\n",
              "1  39.630105    25.896138   9.383602   2.305013  23.639942\n",
              "2  55.982432     7.186827  10.083769  10.326920  20.624685\n",
              "3  44.191528    13.310224  10.285897  -1.032255  18.564488\n",
              "4  59.855174     3.712880  11.725063  16.332172  22.782552"
            ]
          },
          "metadata": {},
          "execution_count": 4
        }
      ]
    },
    {
      "cell_type": "markdown",
      "source": [
        "1. Trực quan hóa dữ liệu"
      ],
      "metadata": {
        "id": "EWMklavF73j8"
      }
    },
    {
      "cell_type": "code",
      "source": [
        "sns.kdeplot(data=df)"
      ],
      "metadata": {
        "colab": {
          "base_uri": "https://localhost:8080/",
          "height": 282
        },
        "id": "_bsiZpua7zHl",
        "outputId": "66a4add3-ea94-49c2-c100-0941dd6be4df"
      },
      "execution_count": 5,
      "outputs": [
        {
          "output_type": "execute_result",
          "data": {
            "text/plain": [
              "<matplotlib.axes._subplots.AxesSubplot at 0x7fa4a2036e10>"
            ]
          },
          "metadata": {},
          "execution_count": 5
        },
        {
          "output_type": "display_data",
          "data": {
            "image/png": "[encoded data removed]",
            "text/plain": [
              "<Figure size 432x288 with 1 Axes>"
            ]
          },
          "metadata": {
            "needs_background": "light"
          }
        }
      ]
    },
    {
      "cell_type": "code",
      "source": [
        "# thống kê dữ liệu\n",
        "df.describe()"
      ],
      "metadata": {
        "colab": {
          "base_uri": "https://localhost:8080/",
          "height": 300
        },
        "id": "7Yej5gNS72Sx",
        "outputId": "adb9dfad-0f8f-49b8-b68f-a64b9e2dce5b"
      },
      "execution_count": 6,
      "outputs": [
        {
          "output_type": "execute_result",
          "data": {
            "text/html": [
              "\n",
              "  <div id=\"df-4662f01b-b624-4e7c-ab90-5005105fed40\">\n",
              "    <div class=\"colab-df-container\">\n",
              "      <div>\n",
              "<style scoped>\n",
              "    .dataframe tbody tr th:only-of-type {\n",
              "        vertical-align: middle;\n",
              "    }\n",
              "\n",
              "    .dataframe tbody tr th {\n",
              "        vertical-align: top;\n",
              "    }\n",
              "\n",
              "    .dataframe thead th {\n",
              "        text-align: right;\n",
              "    }\n",
              "</style>\n",
              "<table border=\"1\" class=\"dataframe\">\n",
              "  <thead>\n",
              "    <tr style=\"text-align: right;\">\n",
              "      <th></th>\n",
              "      <th>beta</th>\n",
              "      <th>exponential</th>\n",
              "      <th>normal_p</th>\n",
              "      <th>normal_l</th>\n",
              "      <th>bimodal</th>\n",
              "    </tr>\n",
              "  </thead>\n",
              "  <tbody>\n",
              "    <tr>\n",
              "      <th>count</th>\n",
              "      <td>1000.000000</td>\n",
              "      <td>1000.000000</td>\n",
              "      <td>1000.000000</td>\n",
              "      <td>1000.000000</td>\n",
              "      <td>1000.000000</td>\n",
              "    </tr>\n",
              "    <tr>\n",
              "      <th>mean</th>\n",
              "      <td>49.821379</td>\n",
              "      <td>10.524212</td>\n",
              "      <td>10.070721</td>\n",
              "      <td>9.720429</td>\n",
              "      <td>-0.238130</td>\n",
              "    </tr>\n",
              "    <tr>\n",
              "      <th>std</th>\n",
              "      <td>8.416502</td>\n",
              "      <td>11.028904</td>\n",
              "      <td>1.950556</td>\n",
              "      <td>9.980203</td>\n",
              "      <td>20.200767</td>\n",
              "    </tr>\n",
              "    <tr>\n",
              "      <th>min</th>\n",
              "      <td>13.364313</td>\n",
              "      <td>0.004114</td>\n",
              "      <td>4.350467</td>\n",
              "      <td>-28.767808</td>\n",
              "      <td>-30.008493</td>\n",
              "    </tr>\n",
              "    <tr>\n",
              "      <th>25%</th>\n",
              "      <td>44.550512</td>\n",
              "      <td>3.194578</td>\n",
              "      <td>8.835729</td>\n",
              "      <td>2.617636</td>\n",
              "      <td>-20.092932</td>\n",
              "    </tr>\n",
              "    <tr>\n",
              "      <th>50%</th>\n",
              "      <td>52.203135</td>\n",
              "      <td>6.945234</td>\n",
              "      <td>10.059807</td>\n",
              "      <td>9.599232</td>\n",
              "      <td>-0.972028</td>\n",
              "    </tr>\n",
              "    <tr>\n",
              "      <th>75%</th>\n",
              "      <td>56.345791</td>\n",
              "      <td>14.390585</td>\n",
              "      <td>11.355429</td>\n",
              "      <td>16.075498</td>\n",
              "      <td>19.763882</td>\n",
              "    </tr>\n",
              "    <tr>\n",
              "      <th>max</th>\n",
              "      <td>59.989702</td>\n",
              "      <td>95.260030</td>\n",
              "      <td>16.629514</td>\n",
              "      <td>46.274067</td>\n",
              "      <td>27.666724</td>\n",
              "    </tr>\n",
              "  </tbody>\n",
              "</table>\n",
              "</div>\n",
              "      <button class=\"colab-df-convert\" onclick=\"convertToInteractive('df-4662f01b-b624-4e7c-ab90-5005105fed40')\"\n",
              "              title=\"Convert this dataframe to an interactive table.\"\n",
              "              style=\"display:none;\">\n",
              "        \n",
              "  <svg xmlns=\"http://www.w3.org/2000/svg\" height=\"24px\"viewBox=\"0 0 24 24\"\n",
              "       width=\"24px\">\n",
              "    <path d=\"M0 0h24v24H0V0z\" fill=\"none\"/>\n",
              "    <path d=\"M18.56 5.44l.94 2.06.94-2.06 2.06-.94-2.06-.94-.94-2.06-.94 2.06-2.06.94zm-11 1L8.5 8.5l.94-2.06 2.06-.94-2.06-.94L8.5 2.5l-.94 2.06-2.06.94zm10 10l.94 2.06.94-2.06 2.06-.94-2.06-.94-.94-2.06-.94 2.06-2.06.94z\"/><path d=\"M17.41 7.96l-1.37-1.37c-.4-.4-.92-.59-1.43-.59-.52 0-1.04.2-1.43.59L10.3 9.45l-7.72 7.72c-.78.78-.78 2.05 0 2.83L4 21.41c.39.39.9.59 1.41.59.51 0 1.02-.2 1.41-.59l7.78-7.78 2.81-2.81c.8-.78.8-2.07 0-2.86zM5.41 20L4 18.59l7.72-7.72 1.47 1.35L5.41 20z\"/>\n",
              "  </svg>\n",
              "      </button>\n",
              "      \n",
              "  <style>\n",
              "    .colab-df-container {\n",
              "      display:flex;\n",
              "      flex-wrap:wrap;\n",
              "      gap: 12px;\n",
              "    }\n",
              "\n",
              "    .colab-df-convert {\n",
              "      background-color: #E8F0FE;\n",
              "      border: none;\n",
              "      border-radius: 50%;\n",
              "      cursor: pointer;\n",
              "      display: none;\n",
              "      fill: #1967D2;\n",
              "      height: 32px;\n",
              "      padding: 0 0 0 0;\n",
              "      width: 32px;\n",
              "    }\n",
              "\n",
              "    .colab-df-convert:hover {\n",
              "      background-color: #E2EBFA;\n",
              "      box-shadow: 0px 1px 2px rgba(60, 64, 67, 0.3), 0px 1px 3px 1px rgba(60, 64, 67, 0.15);\n",
              "      fill: #174EA6;\n",
              "    }\n",
              "\n",
              "    [theme=dark] .colab-df-convert {\n",
              "      background-color: #3B4455;\n",
              "      fill: #D2E3FC;\n",
              "    }\n",
              "\n",
              "    [theme=dark] .colab-df-convert:hover {\n",
              "      background-color: #434B5C;\n",
              "      box-shadow: 0px 1px 3px 1px rgba(0, 0, 0, 0.15);\n",
              "      filter: drop-shadow(0px 1px 2px rgba(0, 0, 0, 0.3));\n",
              "      fill: #FFFFFF;\n",
              "    }\n",
              "  </style>\n",
              "\n",
              "      <script>\n",
              "        const buttonEl =\n",
              "          document.querySelector('#df-4662f01b-b624-4e7c-ab90-5005105fed40 button.colab-df-convert');\n",
              "        buttonEl.style.display =\n",
              "          google.colab.kernel.accessAllowed ? 'block' : 'none';\n",
              "\n",
              "        async function convertToInteractive(key) {\n",
              "          const element = document.querySelector('#df-4662f01b-b624-4e7c-ab90-5005105fed40');\n",
              "          const dataTable =\n",
              "            await google.colab.kernel.invokeFunction('convertToInteractive',\n",
              "                                                     [key], {});\n",
              "          if (!dataTable) return;\n",
              "\n",
              "          const docLinkHtml = 'Like what you see? Visit the ' +\n",
              "            '<a target=\"_blank\" href=https://colab.research.google.com/notebooks/data_table.ipynb>data table notebook</a>'\n",
              "            + ' to learn more about interactive tables.';\n",
              "          element.innerHTML = '';\n",
              "          dataTable['output_type'] = 'display_data';\n",
              "          await google.colab.output.renderOutput(dataTable, element);\n",
              "          const docLink = document.createElement('div');\n",
              "          docLink.innerHTML = docLinkHtml;\n",
              "          element.appendChild(docLink);\n",
              "        }\n",
              "      </script>\n",
              "    </div>\n",
              "  </div>\n",
              "  "
            ],
            "text/plain": [
              "              beta  exponential     normal_p     normal_l      bimodal\n",
              "count  1000.000000  1000.000000  1000.000000  1000.000000  1000.000000\n",
              "mean     49.821379    10.524212    10.070721     9.720429    -0.238130\n",
              "std       8.416502    11.028904     1.950556     9.980203    20.200767\n",
              "min      13.364313     0.004114     4.350467   -28.767808   -30.008493\n",
              "25%      44.550512     3.194578     8.835729     2.617636   -20.092932\n",
              "50%      52.203135     6.945234    10.059807     9.599232    -0.972028\n",
              "75%      56.345791    14.390585    11.355429    16.075498    19.763882\n",
              "max      59.989702    95.260030    16.629514    46.274067    27.666724"
            ]
          },
          "metadata": {},
          "execution_count": 6
        }
      ]
    },
    {
      "cell_type": "markdown",
      "source": [
        "![image.png](data:image/png;base64,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)"
      ],
      "metadata": {
        "id": "TH9QQeVa8aQu"
      }
    },
    {
      "cell_type": "code",
      "source": [
        "normal_big = np.random.normal(1000000, 10000, (1000,1))  # normal distribution of large values\n",
        "df['normal_big'] = normal_big\n",
        "sns.kdeplot(data=df)"
      ],
      "metadata": {
        "colab": {
          "base_uri": "https://localhost:8080/",
          "height": 299
        },
        "id": "yqiudc9M8VtO",
        "outputId": "af48af8a-3366-4988-8ad3-03a154018b9c"
      },
      "execution_count": 7,
      "outputs": [
        {
          "output_type": "execute_result",
          "data": {
            "text/plain": [
              "<matplotlib.axes._subplots.AxesSubplot at 0x7fa49ff24790>"
            ]
          },
          "metadata": {},
          "execution_count": 7
        },
        {
          "output_type": "display_data",
          "data": {
            "image/png": "[encoded data removed]",
            "text/plain": [
              "<Figure size 432x288 with 1 Axes>"
            ]
          },
          "metadata": {
            "needs_background": "light"
          }
        }
      ]
    },
    {
      "cell_type": "code",
      "source": [
        "# trực quan hóa bằng biểu đồ box plot\n",
        "df.boxplot()"
      ],
      "metadata": {
        "colab": {
          "base_uri": "https://localhost:8080/",
          "height": 294
        },
        "id": "ZNcHvOrO8YVt",
        "outputId": "4f8648e5-008c-4d57-a7df-791bad250c3e"
      },
      "execution_count": 8,
      "outputs": [
        {
          "output_type": "execute_result",
          "data": {
            "text/plain": [
              "<matplotlib.axes._subplots.AxesSubplot at 0x7fa49f9c2d50>"
            ]
          },
          "metadata": {},
          "execution_count": 8
        },
        {
          "output_type": "display_data",
          "data": {
            "image/png": "[encoded data removed]",
            "text/plain": [
              "<Figure size 432x288 with 1 Axes>"
            ]
          },
          "metadata": {
            "needs_background": "light"
          }
        }
      ]
    },
    {
      "cell_type": "markdown",
      "source": [
        "2. Chuẩn hóa với Min-Max scaling"
      ],
      "metadata": {
        "id": "zrqf5lNp8grH"
      }
    },
    {
      "cell_type": "code",
      "source": [
        "# Khai báo đối tượng MinMaxScaler\n",
        "scaler = MinMaxScaler()"
      ],
      "metadata": {
        "id": "V_ZRZ7aP8e_O"
      },
      "execution_count": 9,
      "outputs": []
    },
    {
      "cell_type": "code",
      "source": [
        "# Chuẩn hóa dữ liệu trong df với StandardScaler\n",
        "df_s = scaler.fit_transform(df)\n",
        "\n",
        "# lấy danh sáchc cột\n",
        "col_names = list(df.columns)\n",
        "\n",
        "# chuyển về DataFrame, gán các cột của df cho dữ liệu đã được chuẩn hóa\n",
        "df_s = pd.DataFrame(df_s, columns=col_names)"
      ],
      "metadata": {
        "id": "XIbwmIq48i1N"
      },
      "execution_count": 10,
      "outputs": []
    },
    {
      "cell_type": "code",
      "source": [
        "df_s.head()"
      ],
      "metadata": {
        "colab": {
          "base_uri": "https://localhost:8080/",
          "height": 206
        },
        "id": "sSDO5Ywx8kqP",
        "outputId": "b0d37d60-5618-4c9a-b492-0926a2050d8f"
      },
      "execution_count": 11,
      "outputs": [
        {
          "output_type": "execute_result",
          "data": {
            "text/html": [
              "\n",
              "  <div id=\"df-38a57c7a-0c4c-436b-9071-ec659bc9d436\">\n",
              "    <div class=\"colab-df-container\">\n",
              "      <div>\n",
              "<style scoped>\n",
              "    .dataframe tbody tr th:only-of-type {\n",
              "        vertical-align: middle;\n",
              "    }\n",
              "\n",
              "    .dataframe tbody tr th {\n",
              "        vertical-align: top;\n",
              "    }\n",
              "\n",
              "    .dataframe thead th {\n",
              "        text-align: right;\n",
              "    }\n",
              "</style>\n",
              "<table border=\"1\" class=\"dataframe\">\n",
              "  <thead>\n",
              "    <tr style=\"text-align: right;\">\n",
              "      <th></th>\n",
              "      <th>beta</th>\n",
              "      <th>exponential</th>\n",
              "      <th>normal_p</th>\n",
              "      <th>normal_l</th>\n",
              "      <th>bimodal</th>\n",
              "      <th>normal_big</th>\n",
              "    </tr>\n",
              "  </thead>\n",
              "  <tbody>\n",
              "    <tr>\n",
              "      <th>0</th>\n",
              "      <td>0.861402</td>\n",
              "      <td>0.009895</td>\n",
              "      <td>0.278163</td>\n",
              "      <td>0.913501</td>\n",
              "      <td>0.851886</td>\n",
              "      <td>0.737010</td>\n",
              "    </tr>\n",
              "    <tr>\n",
              "      <th>1</th>\n",
              "      <td>0.563337</td>\n",
              "      <td>0.271815</td>\n",
              "      <td>0.409896</td>\n",
              "      <td>0.414073</td>\n",
              "      <td>0.930182</td>\n",
              "      <td>0.568930</td>\n",
              "    </tr>\n",
              "    <tr>\n",
              "      <th>2</th>\n",
              "      <td>0.914054</td>\n",
              "      <td>0.075404</td>\n",
              "      <td>0.466918</td>\n",
              "      <td>0.520972</td>\n",
              "      <td>0.877902</td>\n",
              "      <td>0.535802</td>\n",
              "    </tr>\n",
              "    <tr>\n",
              "      <th>3</th>\n",
              "      <td>0.661168</td>\n",
              "      <td>0.139688</td>\n",
              "      <td>0.483379</td>\n",
              "      <td>0.369601</td>\n",
              "      <td>0.842181</td>\n",
              "      <td>0.517526</td>\n",
              "    </tr>\n",
              "    <tr>\n",
              "      <th>4</th>\n",
              "      <td>0.997115</td>\n",
              "      <td>0.038935</td>\n",
              "      <td>0.600584</td>\n",
              "      <td>0.600998</td>\n",
              "      <td>0.915316</td>\n",
              "      <td>0.388800</td>\n",
              "    </tr>\n",
              "  </tbody>\n",
              "</table>\n",
              "</div>\n",
              "      <button class=\"colab-df-convert\" onclick=\"convertToInteractive('df-38a57c7a-0c4c-436b-9071-ec659bc9d436')\"\n",
              "              title=\"Convert this dataframe to an interactive table.\"\n",
              "              style=\"display:none;\">\n",
              "        \n",
              "  <svg xmlns=\"http://www.w3.org/2000/svg\" height=\"24px\"viewBox=\"0 0 24 24\"\n",
              "       width=\"24px\">\n",
              "    <path d=\"M0 0h24v24H0V0z\" fill=\"none\"/>\n",
              "    <path d=\"M18.56 5.44l.94 2.06.94-2.06 2.06-.94-2.06-.94-.94-2.06-.94 2.06-2.06.94zm-11 1L8.5 8.5l.94-2.06 2.06-.94-2.06-.94L8.5 2.5l-.94 2.06-2.06.94zm10 10l.94 2.06.94-2.06 2.06-.94-2.06-.94-.94-2.06-.94 2.06-2.06.94z\"/><path d=\"M17.41 7.96l-1.37-1.37c-.4-.4-.92-.59-1.43-.59-.52 0-1.04.2-1.43.59L10.3 9.45l-7.72 7.72c-.78.78-.78 2.05 0 2.83L4 21.41c.39.39.9.59 1.41.59.51 0 1.02-.2 1.41-.59l7.78-7.78 2.81-2.81c.8-.78.8-2.07 0-2.86zM5.41 20L4 18.59l7.72-7.72 1.47 1.35L5.41 20z\"/>\n",
              "  </svg>\n",
              "      </button>\n",
              "      \n",
              "  <style>\n",
              "    .colab-df-container {\n",
              "      display:flex;\n",
              "      flex-wrap:wrap;\n",
              "      gap: 12px;\n",
              "    }\n",
              "\n",
              "    .colab-df-convert {\n",
              "      background-color: #E8F0FE;\n",
              "      border: none;\n",
              "      border-radius: 50%;\n",
              "      cursor: pointer;\n",
              "      display: none;\n",
              "      fill: #1967D2;\n",
              "      height: 32px;\n",
              "      padding: 0 0 0 0;\n",
              "      width: 32px;\n",
              "    }\n",
              "\n",
              "    .colab-df-convert:hover {\n",
              "      background-color: #E2EBFA;\n",
              "      box-shadow: 0px 1px 2px rgba(60, 64, 67, 0.3), 0px 1px 3px 1px rgba(60, 64, 67, 0.15);\n",
              "      fill: #174EA6;\n",
              "    }\n",
              "\n",
              "    [theme=dark] .colab-df-convert {\n",
              "      background-color: #3B4455;\n",
              "      fill: #D2E3FC;\n",
              "    }\n",
              "\n",
              "    [theme=dark] .colab-df-convert:hover {\n",
              "      background-color: #434B5C;\n",
              "      box-shadow: 0px 1px 3px 1px rgba(0, 0, 0, 0.15);\n",
              "      filter: drop-shadow(0px 1px 2px rgba(0, 0, 0, 0.3));\n",
              "      fill: #FFFFFF;\n",
              "    }\n",
              "  </style>\n",
              "\n",
              "      <script>\n",
              "        const buttonEl =\n",
              "          document.querySelector('#df-38a57c7a-0c4c-436b-9071-ec659bc9d436 button.colab-df-convert');\n",
              "        buttonEl.style.display =\n",
              "          google.colab.kernel.accessAllowed ? 'block' : 'none';\n",
              "\n",
              "        async function convertToInteractive(key) {\n",
              "          const element = document.querySelector('#df-38a57c7a-0c4c-436b-9071-ec659bc9d436');\n",
              "          const dataTable =\n",
              "            await google.colab.kernel.invokeFunction('convertToInteractive',\n",
              "                                                     [key], {});\n",
              "          if (!dataTable) return;\n",
              "\n",
              "          const docLinkHtml = 'Like what you see? Visit the ' +\n",
              "            '<a target=\"_blank\" href=https://colab.research.google.com/notebooks/data_table.ipynb>data table notebook</a>'\n",
              "            + ' to learn more about interactive tables.';\n",
              "          element.innerHTML = '';\n",
              "          dataTable['output_type'] = 'display_data';\n",
              "          await google.colab.output.renderOutput(dataTable, element);\n",
              "          const docLink = document.createElement('div');\n",
              "          docLink.innerHTML = docLinkHtml;\n",
              "          element.appendChild(docLink);\n",
              "        }\n",
              "      </script>\n",
              "    </div>\n",
              "  </div>\n",
              "  "
            ],
            "text/plain": [
              "       beta  exponential  normal_p  normal_l   bimodal  normal_big\n",
              "0  0.861402     0.009895  0.278163  0.913501  0.851886    0.737010\n",
              "1  0.563337     0.271815  0.409896  0.414073  0.930182    0.568930\n",
              "2  0.914054     0.075404  0.466918  0.520972  0.877902    0.535802\n",
              "3  0.661168     0.139688  0.483379  0.369601  0.842181    0.517526\n",
              "4  0.997115     0.038935  0.600584  0.600998  0.915316    0.388800"
            ]
          },
          "metadata": {},
          "execution_count": 11
        }
      ]
    },
    {
      "cell_type": "code",
      "source": [
        "# biểu diễn dữ liệu đã được chuẩn hóa\n",
        "sns.kdeplot(data=df_s)"
      ],
      "metadata": {
        "colab": {
          "base_uri": "https://localhost:8080/",
          "height": 282
        },
        "id": "W6hB5JX48mIk",
        "outputId": "45324f92-e97c-4cc4-f4be-0c8b30b96b3a"
      },
      "execution_count": 12,
      "outputs": [
        {
          "output_type": "execute_result",
          "data": {
            "text/plain": [
              "<matplotlib.axes._subplots.AxesSubplot at 0x7fa49f8ff0d0>"
            ]
          },
          "metadata": {},
          "execution_count": 12
        },
        {
          "output_type": "display_data",
          "data": {
            "image/png": "[encoded data removed]",
            "text/plain": [
              "<Figure size 432x288 with 1 Axes>"
            ]
          },
          "metadata": {
            "needs_background": "light"
          }
        }
      ]
    },
    {
      "cell_type": "code",
      "source": [
        "# trực quan hóa bằng biểu đồ box plot\n",
        "df_s.boxplot()"
      ],
      "metadata": {
        "colab": {
          "base_uri": "https://localhost:8080/",
          "height": 283
        },
        "id": "2lNjZfIy8n-G",
        "outputId": "86f31cb6-d75d-469e-be3f-721e0fe66e35"
      },
      "execution_count": 13,
      "outputs": [
        {
          "output_type": "execute_result",
          "data": {
            "text/plain": [
              "<matplotlib.axes._subplots.AxesSubplot at 0x7fa49f7ceb10>"
            ]
          },
          "metadata": {},
          "execution_count": 13
        },
        {
          "output_type": "display_data",
          "data": {
            "image/png": "[encoded data removed]",
            "text/plain": [
              "<Figure size 432x288 with 1 Axes>"
            ]
          },
          "metadata": {
            "needs_background": "light"
          }
        }
      ]
    },
    {
      "cell_type": "code",
      "source": [
        "# thống kê về dữ liệu được sinh ra\n",
        "df_s.describe()"
      ],
      "metadata": {
        "colab": {
          "base_uri": "https://localhost:8080/",
          "height": 300
        },
        "id": "9ayg8To_8p6g",
        "outputId": "094da091-d763-48d3-ffb2-dbaa7b3c84a8"
      },
      "execution_count": 14,
      "outputs": [
        {
          "output_type": "execute_result",
          "data": {
            "text/html": [
              "\n",
              "  <div id=\"df-abe5dd30-f502-42bc-99ce-da0b0708170d\">\n",
              "    <div class=\"colab-df-container\">\n",
              "      <div>\n",
              "<style scoped>\n",
              "    .dataframe tbody tr th:only-of-type {\n",
              "        vertical-align: middle;\n",
              "    }\n",
              "\n",
              "    .dataframe tbody tr th {\n",
              "        vertical-align: top;\n",
              "    }\n",
              "\n",
              "    .dataframe thead th {\n",
              "        text-align: right;\n",
              "    }\n",
              "</style>\n",
              "<table border=\"1\" class=\"dataframe\">\n",
              "  <thead>\n",
              "    <tr style=\"text-align: right;\">\n",
              "      <th></th>\n",
              "      <th>beta</th>\n",
              "      <th>exponential</th>\n",
              "      <th>normal_p</th>\n",
              "      <th>normal_l</th>\n",
              "      <th>bimodal</th>\n",
              "      <th>normal_big</th>\n",
              "    </tr>\n",
              "  </thead>\n",
              "  <tbody>\n",
              "    <tr>\n",
              "      <th>count</th>\n",
              "      <td>1000.000000</td>\n",
              "      <td>1000.000000</td>\n",
              "      <td>1000.000000</td>\n",
              "      <td>1000.000000</td>\n",
              "      <td>1000.000000</td>\n",
              "      <td>1000.000000</td>\n",
              "    </tr>\n",
              "    <tr>\n",
              "      <th>mean</th>\n",
              "      <td>0.781914</td>\n",
              "      <td>0.110440</td>\n",
              "      <td>0.465855</td>\n",
              "      <td>0.512890</td>\n",
              "      <td>0.516173</td>\n",
              "      <td>0.523609</td>\n",
              "    </tr>\n",
              "    <tr>\n",
              "      <th>std</th>\n",
              "      <td>0.180513</td>\n",
              "      <td>0.115782</td>\n",
              "      <td>0.158852</td>\n",
              "      <td>0.132995</td>\n",
              "      <td>0.350250</td>\n",
              "      <td>0.151547</td>\n",
              "    </tr>\n",
              "    <tr>\n",
              "      <th>min</th>\n",
              "      <td>0.000000</td>\n",
              "      <td>0.000000</td>\n",
              "      <td>0.000000</td>\n",
              "      <td>0.000000</td>\n",
              "      <td>0.000000</td>\n",
              "      <td>0.000000</td>\n",
              "    </tr>\n",
              "    <tr>\n",
              "      <th>25%</th>\n",
              "      <td>0.668867</td>\n",
              "      <td>0.033494</td>\n",
              "      <td>0.365278</td>\n",
              "      <td>0.418239</td>\n",
              "      <td>0.171921</td>\n",
              "      <td>0.418413</td>\n",
              "    </tr>\n",
              "    <tr>\n",
              "      <th>50%</th>\n",
              "      <td>0.832997</td>\n",
              "      <td>0.072868</td>\n",
              "      <td>0.464966</td>\n",
              "      <td>0.511275</td>\n",
              "      <td>0.503448</td>\n",
              "      <td>0.527511</td>\n",
              "    </tr>\n",
              "    <tr>\n",
              "      <th>75%</th>\n",
              "      <td>0.921847</td>\n",
              "      <td>0.151030</td>\n",
              "      <td>0.570481</td>\n",
              "      <td>0.597577</td>\n",
              "      <td>0.862977</td>\n",
              "      <td>0.618910</td>\n",
              "    </tr>\n",
              "    <tr>\n",
              "      <th>max</th>\n",
              "      <td>1.000000</td>\n",
              "      <td>1.000000</td>\n",
              "      <td>1.000000</td>\n",
              "      <td>1.000000</td>\n",
              "      <td>1.000000</td>\n",
              "      <td>1.000000</td>\n",
              "    </tr>\n",
              "  </tbody>\n",
              "</table>\n",
              "</div>\n",
              "      <button class=\"colab-df-convert\" onclick=\"convertToInteractive('df-abe5dd30-f502-42bc-99ce-da0b0708170d')\"\n",
              "              title=\"Convert this dataframe to an interactive table.\"\n",
              "              style=\"display:none;\">\n",
              "        \n",
              "  <svg xmlns=\"http://www.w3.org/2000/svg\" height=\"24px\"viewBox=\"0 0 24 24\"\n",
              "       width=\"24px\">\n",
              "    <path d=\"M0 0h24v24H0V0z\" fill=\"none\"/>\n",
              "    <path d=\"M18.56 5.44l.94 2.06.94-2.06 2.06-.94-2.06-.94-.94-2.06-.94 2.06-2.06.94zm-11 1L8.5 8.5l.94-2.06 2.06-.94-2.06-.94L8.5 2.5l-.94 2.06-2.06.94zm10 10l.94 2.06.94-2.06 2.06-.94-2.06-.94-.94-2.06-.94 2.06-2.06.94z\"/><path d=\"M17.41 7.96l-1.37-1.37c-.4-.4-.92-.59-1.43-.59-.52 0-1.04.2-1.43.59L10.3 9.45l-7.72 7.72c-.78.78-.78 2.05 0 2.83L4 21.41c.39.39.9.59 1.41.59.51 0 1.02-.2 1.41-.59l7.78-7.78 2.81-2.81c.8-.78.8-2.07 0-2.86zM5.41 20L4 18.59l7.72-7.72 1.47 1.35L5.41 20z\"/>\n",
              "  </svg>\n",
              "      </button>\n",
              "      \n",
              "  <style>\n",
              "    .colab-df-container {\n",
              "      display:flex;\n",
              "      flex-wrap:wrap;\n",
              "      gap: 12px;\n",
              "    }\n",
              "\n",
              "    .colab-df-convert {\n",
              "      background-color: #E8F0FE;\n",
              "      border: none;\n",
              "      border-radius: 50%;\n",
              "      cursor: pointer;\n",
              "      display: none;\n",
              "      fill: #1967D2;\n",
              "      height: 32px;\n",
              "      padding: 0 0 0 0;\n",
              "      width: 32px;\n",
              "    }\n",
              "\n",
              "    .colab-df-convert:hover {\n",
              "      background-color: #E2EBFA;\n",
              "      box-shadow: 0px 1px 2px rgba(60, 64, 67, 0.3), 0px 1px 3px 1px rgba(60, 64, 67, 0.15);\n",
              "      fill: #174EA6;\n",
              "    }\n",
              "\n",
              "    [theme=dark] .colab-df-convert {\n",
              "      background-color: #3B4455;\n",
              "      fill: #D2E3FC;\n",
              "    }\n",
              "\n",
              "    [theme=dark] .colab-df-convert:hover {\n",
              "      background-color: #434B5C;\n",
              "      box-shadow: 0px 1px 3px 1px rgba(0, 0, 0, 0.15);\n",
              "      filter: drop-shadow(0px 1px 2px rgba(0, 0, 0, 0.3));\n",
              "      fill: #FFFFFF;\n",
              "    }\n",
              "  </style>\n",
              "\n",
              "      <script>\n",
              "        const buttonEl =\n",
              "          document.querySelector('#df-abe5dd30-f502-42bc-99ce-da0b0708170d button.colab-df-convert');\n",
              "        buttonEl.style.display =\n",
              "          google.colab.kernel.accessAllowed ? 'block' : 'none';\n",
              "\n",
              "        async function convertToInteractive(key) {\n",
              "          const element = document.querySelector('#df-abe5dd30-f502-42bc-99ce-da0b0708170d');\n",
              "          const dataTable =\n",
              "            await google.colab.kernel.invokeFunction('convertToInteractive',\n",
              "                                                     [key], {});\n",
              "          if (!dataTable) return;\n",
              "\n",
              "          const docLinkHtml = 'Like what you see? Visit the ' +\n",
              "            '<a target=\"_blank\" href=https://colab.research.google.com/notebooks/data_table.ipynb>data table notebook</a>'\n",
              "            + ' to learn more about interactive tables.';\n",
              "          element.innerHTML = '';\n",
              "          dataTable['output_type'] = 'display_data';\n",
              "          await google.colab.output.renderOutput(dataTable, element);\n",
              "          const docLink = document.createElement('div');\n",
              "          docLink.innerHTML = docLinkHtml;\n",
              "          element.appendChild(docLink);\n",
              "        }\n",
              "      </script>\n",
              "    </div>\n",
              "  </div>\n",
              "  "
            ],
            "text/plain": [
              "              beta  exponential  ...      bimodal   normal_big\n",
              "count  1000.000000  1000.000000  ...  1000.000000  1000.000000\n",
              "mean      0.781914     0.110440  ...     0.516173     0.523609\n",
              "std       0.180513     0.115782  ...     0.350250     0.151547\n",
              "min       0.000000     0.000000  ...     0.000000     0.000000\n",
              "25%       0.668867     0.033494  ...     0.171921     0.418413\n",
              "50%       0.832997     0.072868  ...     0.503448     0.527511\n",
              "75%       0.921847     0.151030  ...     0.862977     0.618910\n",
              "max       1.000000     1.000000  ...     1.000000     1.000000\n",
              "\n",
              "[8 rows x 6 columns]"
            ]
          },
          "metadata": {},
          "execution_count": 14
        }
      ]
    },
    {
      "cell_type": "code",
      "source": [
        "# lấy giá trị min của cột beta\n",
        "df_s['beta'].min()"
      ],
      "metadata": {
        "colab": {
          "base_uri": "https://localhost:8080/"
        },
        "id": "IGT3BYcN8tXD",
        "outputId": "a9590147-0de9-49bb-ab47-0f31ef612f38"
      },
      "execution_count": 15,
      "outputs": [
        {
          "output_type": "execute_result",
          "data": {
            "text/plain": [
              "0.0"
            ]
          },
          "metadata": {},
          "execution_count": 15
        }
      ]
    },
    {
      "cell_type": "code",
      "source": [
        "# lấy giá trị max của cột beta\n",
        "df_s['beta'].max()"
      ],
      "metadata": {
        "colab": {
          "base_uri": "https://localhost:8080/"
        },
        "id": "SKNYWzD48vKN",
        "outputId": "8494c297-65ef-4c03-80f2-4d851cbeaa74"
      },
      "execution_count": 16,
      "outputs": [
        {
          "output_type": "execute_result",
          "data": {
            "text/plain": [
              "0.9999999999999998"
            ]
          },
          "metadata": {},
          "execution_count": 16
        }
      ]
    },
    {
      "cell_type": "code",
      "source": [
        "# in các giá trị min của từng cột trong dữ liệu chưa chuẩn hóa\n",
        "mins = [df[col].min() for col in df.columns]\n",
        "mins"
      ],
      "metadata": {
        "colab": {
          "base_uri": "https://localhost:8080/"
        },
        "id": "kP8C6SIo8wS8",
        "outputId": "30e2c624-d687-45db-a137-55e489e1faeb"
      },
      "execution_count": 17,
      "outputs": [
        {
          "output_type": "execute_result",
          "data": {
            "text/plain": [
              "[13.364312982685298,\n",
              " 0.00411433769105101,\n",
              " 4.350467175517475,\n",
              " -28.767808125545827,\n",
              " -30.00849255253491,\n",
              " 964586.0497754236]"
            ]
          },
          "metadata": {},
          "execution_count": 17
        }
      ]
    },
    {
      "cell_type": "code",
      "source": [
        "# in các giá trị min của từng cột trong dữ liệu đã chuẩn hóa\n",
        "mins = [df_s[col].min() for col in df_s.columns]\n",
        "mins"
      ],
      "metadata": {
        "colab": {
          "base_uri": "https://localhost:8080/"
        },
        "id": "gJ9T7YpA8xpp",
        "outputId": "ec43f07d-5995-4fdc-9851-3ddedcbda3cd"
      },
      "execution_count": 18,
      "outputs": [
        {
          "output_type": "execute_result",
          "data": {
            "text/plain": [
              "[0.0, 0.0, 0.0, 0.0, 0.0, 0.0]"
            ]
          },
          "metadata": {},
          "execution_count": 18
        }
      ]
    },
    {
      "cell_type": "code",
      "source": [
        "# in các giá trị max của từng cột dữ liệu chưa chuẩn hóa\n",
        "maxs = [df[col].max() for col in df.columns]\n",
        "maxs"
      ],
      "metadata": {
        "colab": {
          "base_uri": "https://localhost:8080/"
        },
        "id": "1HsTlsFl8zb1",
        "outputId": "264051d9-425f-4462-bec0-4b833749c3b7"
      },
      "execution_count": 19,
      "outputs": [
        {
          "output_type": "execute_result",
          "data": {
            "text/plain": [
              "[59.989702138780565,\n",
              " 95.26002983771525,\n",
              " 16.62951371768971,\n",
              " 46.27406651652581,\n",
              " 27.666723808687703,\n",
              " 1031919.9697039474]"
            ]
          },
          "metadata": {},
          "execution_count": 19
        }
      ]
    },
    {
      "cell_type": "code",
      "source": [
        "# in các giá trị max của từng cột dữ liệu đã chuẩn hóa\n",
        "maxs = [df_s[col].max() for col in df_s.columns]\n",
        "maxs"
      ],
      "metadata": {
        "colab": {
          "base_uri": "https://localhost:8080/"
        },
        "id": "SApG0TpS81E7",
        "outputId": "717ffb59-02e3-4175-b28d-fc1c851ffb0d"
      },
      "execution_count": 20,
      "outputs": [
        {
          "output_type": "execute_result",
          "data": {
            "text/plain": [
              "[0.9999999999999998, 1.0, 1.0, 1.0, 1.0, 1.0]"
            ]
          },
          "metadata": {},
          "execution_count": 20
        }
      ]
    },
    {
      "cell_type": "code",
      "source": [
        ""
      ],
      "metadata": {
        "id": "FmDn0zcp84FZ"
      },
      "execution_count": null,
      "outputs": []
    }
  ]
}