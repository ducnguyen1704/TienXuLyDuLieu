{
  "nbformat": 4,
  "nbformat_minor": 0,
  "metadata": {
    "colab": {
      "name": "THỰC HÀNH 3.ipynb",
      "provenance": [],
      "authorship_tag": "ABX9TyM58HVAwZB7qNf1yzx+VlZA",
      "include_colab_link": true
    },
    "kernelspec": {
      "name": "python3",
      "display_name": "Python 3"
    },
    "language_info": {
      "name": "python"
    }
  },
  "cells": [
    {
      "cell_type": "markdown",
      "metadata": {
        "id": "view-in-github",
        "colab_type": "text"
      },
      "source": [
        "<a href=\"https://colab.research.google.com/github/ducnguyen1704/TienXuLyDuLieu/blob/master/TH%E1%BB%B0C_H%C3%80NH_3.ipynb\" target=\"_parent\"><img src=\"https://colab.research.google.com/assets/colab-badge.svg\" alt=\"Open In Colab\"/></a>"
      ]
    },
    {
      "cell_type": "markdown",
      "source": [
        "# [Thực hành] Chuẩn hoá dữ liệu với Robust Scaling"
      ],
      "metadata": {
        "id": "vGDkrSXO9JCo"
      }
    },
    {
      "cell_type": "code",
      "execution_count": 1,
      "metadata": {
        "id": "6966BhGc9HNG"
      },
      "outputs": [],
      "source": [
        "# Khai báo thư viện\n",
        "import pandas as pd\n",
        "import numpy as np\n",
        "import matplotlib.pyplot as plt\n",
        "import seaborn as sns\n",
        "from sklearn.preprocessing import RobustScaler"
      ]
    },
    {
      "cell_type": "code",
      "source": [
        "# 1. Khởi tạo dữ liệu\n",
        "# tạo các cột theo các phần phối khác nhau\n",
        "df = pd.DataFrame({ \n",
        "    'beta': np.random.beta(5, 1, 1000) * 60,        # beta\n",
        "    'exponential': np.random.exponential(10, 1000), # exponential\n",
        "    'normal_p': np.random.normal(10, 2, 1000),      # normal platykurtic\n",
        "    'normal_l': np.random.normal(10, 10, 1000),     # normal leptokurtic\n",
        "})\n",
        "\n",
        "# thêm dữ liệu được tạo theo phân phối nhị thức\n",
        "first_half = np.random.normal(20, 3, 500) \n",
        "second_half = np.random.normal(-20, 3, 500) \n",
        "bimodal = np.concatenate([first_half, second_half])\n",
        "\n",
        "df['bimodal'] = bimodal\n",
        "\n",
        "df.head()"
      ],
      "metadata": {
        "colab": {
          "base_uri": "https://localhost:8080/",
          "height": 206
        },
        "id": "cAiGcW3Q9N8x",
        "outputId": "30423ad6-38d6-4ef8-d595-d7b5a739eef5"
      },
      "execution_count": 2,
      "outputs": [
        {
          "output_type": "execute_result",
          "data": {
            "text/html": [
              "\n",
              "  <div id=\"df-3de11b07-fe16-4f57-8a1f-bc4ac439b4c0\">\n",
              "    <div class=\"colab-df-container\">\n",
              "      <div>\n",
              "<style scoped>\n",
              "    .dataframe tbody tr th:only-of-type {\n",
              "        vertical-align: middle;\n",
              "    }\n",
              "\n",
              "    .dataframe tbody tr th {\n",
              "        vertical-align: top;\n",
              "    }\n",
              "\n",
              "    .dataframe thead th {\n",
              "        text-align: right;\n",
              "    }\n",
              "</style>\n",
              "<table border=\"1\" class=\"dataframe\">\n",
              "  <thead>\n",
              "    <tr style=\"text-align: right;\">\n",
              "      <th></th>\n",
              "      <th>beta</th>\n",
              "      <th>exponential</th>\n",
              "      <th>normal_p</th>\n",
              "      <th>normal_l</th>\n",
              "      <th>bimodal</th>\n",
              "    </tr>\n",
              "  </thead>\n",
              "  <tbody>\n",
              "    <tr>\n",
              "      <th>0</th>\n",
              "      <td>55.096530</td>\n",
              "      <td>6.501081</td>\n",
              "      <td>7.911214</td>\n",
              "      <td>19.299047</td>\n",
              "      <td>21.777978</td>\n",
              "    </tr>\n",
              "    <tr>\n",
              "      <th>1</th>\n",
              "      <td>24.321951</td>\n",
              "      <td>11.060232</td>\n",
              "      <td>10.619541</td>\n",
              "      <td>16.952112</td>\n",
              "      <td>16.399817</td>\n",
              "    </tr>\n",
              "    <tr>\n",
              "      <th>2</th>\n",
              "      <td>51.082983</td>\n",
              "      <td>1.444861</td>\n",
              "      <td>9.995939</td>\n",
              "      <td>-2.614795</td>\n",
              "      <td>14.973652</td>\n",
              "    </tr>\n",
              "    <tr>\n",
              "      <th>3</th>\n",
              "      <td>59.614057</td>\n",
              "      <td>9.831047</td>\n",
              "      <td>10.826022</td>\n",
              "      <td>2.960218</td>\n",
              "      <td>20.324042</td>\n",
              "    </tr>\n",
              "    <tr>\n",
              "      <th>4</th>\n",
              "      <td>56.351493</td>\n",
              "      <td>36.612011</td>\n",
              "      <td>10.269401</td>\n",
              "      <td>1.723896</td>\n",
              "      <td>19.400893</td>\n",
              "    </tr>\n",
              "  </tbody>\n",
              "</table>\n",
              "</div>\n",
              "      <button class=\"colab-df-convert\" onclick=\"convertToInteractive('df-3de11b07-fe16-4f57-8a1f-bc4ac439b4c0')\"\n",
              "              title=\"Convert this dataframe to an interactive table.\"\n",
              "              style=\"display:none;\">\n",
              "        \n",
              "  <svg xmlns=\"http://www.w3.org/2000/svg\" height=\"24px\"viewBox=\"0 0 24 24\"\n",
              "       width=\"24px\">\n",
              "    <path d=\"M0 0h24v24H0V0z\" fill=\"none\"/>\n",
              "    <path d=\"M18.56 5.44l.94 2.06.94-2.06 2.06-.94-2.06-.94-.94-2.06-.94 2.06-2.06.94zm-11 1L8.5 8.5l.94-2.06 2.06-.94-2.06-.94L8.5 2.5l-.94 2.06-2.06.94zm10 10l.94 2.06.94-2.06 2.06-.94-2.06-.94-.94-2.06-.94 2.06-2.06.94z\"/><path d=\"M17.41 7.96l-1.37-1.37c-.4-.4-.92-.59-1.43-.59-.52 0-1.04.2-1.43.59L10.3 9.45l-7.72 7.72c-.78.78-.78 2.05 0 2.83L4 21.41c.39.39.9.59 1.41.59.51 0 1.02-.2 1.41-.59l7.78-7.78 2.81-2.81c.8-.78.8-2.07 0-2.86zM5.41 20L4 18.59l7.72-7.72 1.47 1.35L5.41 20z\"/>\n",
              "  </svg>\n",
              "      </button>\n",
              "      \n",
              "  <style>\n",
              "    .colab-df-container {\n",
              "      display:flex;\n",
              "      flex-wrap:wrap;\n",
              "      gap: 12px;\n",
              "    }\n",
              "\n",
              "    .colab-df-convert {\n",
              "      background-color: #E8F0FE;\n",
              "      border: none;\n",
              "      border-radius: 50%;\n",
              "      cursor: pointer;\n",
              "      display: none;\n",
              "      fill: #1967D2;\n",
              "      height: 32px;\n",
              "      padding: 0 0 0 0;\n",
              "      width: 32px;\n",
              "    }\n",
              "\n",
              "    .colab-df-convert:hover {\n",
              "      background-color: #E2EBFA;\n",
              "      box-shadow: 0px 1px 2px rgba(60, 64, 67, 0.3), 0px 1px 3px 1px rgba(60, 64, 67, 0.15);\n",
              "      fill: #174EA6;\n",
              "    }\n",
              "\n",
              "    [theme=dark] .colab-df-convert {\n",
              "      background-color: #3B4455;\n",
              "      fill: #D2E3FC;\n",
              "    }\n",
              "\n",
              "    [theme=dark] .colab-df-convert:hover {\n",
              "      background-color: #434B5C;\n",
              "      box-shadow: 0px 1px 3px 1px rgba(0, 0, 0, 0.15);\n",
              "      filter: drop-shadow(0px 1px 2px rgba(0, 0, 0, 0.3));\n",
              "      fill: #FFFFFF;\n",
              "    }\n",
              "  </style>\n",
              "\n",
              "      <script>\n",
              "        const buttonEl =\n",
              "          document.querySelector('#df-3de11b07-fe16-4f57-8a1f-bc4ac439b4c0 button.colab-df-convert');\n",
              "        buttonEl.style.display =\n",
              "          google.colab.kernel.accessAllowed ? 'block' : 'none';\n",
              "\n",
              "        async function convertToInteractive(key) {\n",
              "          const element = document.querySelector('#df-3de11b07-fe16-4f57-8a1f-bc4ac439b4c0');\n",
              "          const dataTable =\n",
              "            await google.colab.kernel.invokeFunction('convertToInteractive',\n",
              "                                                     [key], {});\n",
              "          if (!dataTable) return;\n",
              "\n",
              "          const docLinkHtml = 'Like what you see? Visit the ' +\n",
              "            '<a target=\"_blank\" href=https://colab.research.google.com/notebooks/data_table.ipynb>data table notebook</a>'\n",
              "            + ' to learn more about interactive tables.';\n",
              "          element.innerHTML = '';\n",
              "          dataTable['output_type'] = 'display_data';\n",
              "          await google.colab.output.renderOutput(dataTable, element);\n",
              "          const docLink = document.createElement('div');\n",
              "          docLink.innerHTML = docLinkHtml;\n",
              "          element.appendChild(docLink);\n",
              "        }\n",
              "      </script>\n",
              "    </div>\n",
              "  </div>\n",
              "  "
            ],
            "text/plain": [
              "        beta  exponential   normal_p   normal_l    bimodal\n",
              "0  55.096530     6.501081   7.911214  19.299047  21.777978\n",
              "1  24.321951    11.060232  10.619541  16.952112  16.399817\n",
              "2  51.082983     1.444861   9.995939  -2.614795  14.973652\n",
              "3  59.614057     9.831047  10.826022   2.960218  20.324042\n",
              "4  56.351493    36.612011  10.269401   1.723896  19.400893"
            ]
          },
          "metadata": {},
          "execution_count": 2
        }
      ]
    },
    {
      "cell_type": "code",
      "source": [
        "# Trực quan hóa dữ liệu sinh ra\n",
        "sns.kdeplot(data=df)"
      ],
      "metadata": {
        "colab": {
          "base_uri": "https://localhost:8080/",
          "height": 282
        },
        "id": "A0TZ1JuE9TsH",
        "outputId": "6d9f4672-dbb1-474f-8ff2-1dcd25958d72"
      },
      "execution_count": 3,
      "outputs": [
        {
          "output_type": "execute_result",
          "data": {
            "text/plain": [
              "<matplotlib.axes._subplots.AxesSubplot at 0x7f68188c89d0>"
            ]
          },
          "metadata": {},
          "execution_count": 3
        },
        {
          "output_type": "display_data",
          "data": {
            "image/png": "[encoded data removed]",
            "text/plain": [
              "<Figure size 432x288 with 1 Axes>"
            ]
          },
          "metadata": {
            "needs_background": "light"
          }
        }
      ]
    },
    {
      "cell_type": "code",
      "source": [
        "df.describe()"
      ],
      "metadata": {
        "colab": {
          "base_uri": "https://localhost:8080/",
          "height": 300
        },
        "id": "dZQVmXYh9X0u",
        "outputId": "4d638ee6-6097-45e8-9c4b-6b4345a14b89"
      },
      "execution_count": 4,
      "outputs": [
        {
          "output_type": "execute_result",
          "data": {
            "text/html": [
              "\n",
              "  <div id=\"df-c2b105d4-e2e2-4751-85ec-ec0d379396e5\">\n",
              "    <div class=\"colab-df-container\">\n",
              "      <div>\n",
              "<style scoped>\n",
              "    .dataframe tbody tr th:only-of-type {\n",
              "        vertical-align: middle;\n",
              "    }\n",
              "\n",
              "    .dataframe tbody tr th {\n",
              "        vertical-align: top;\n",
              "    }\n",
              "\n",
              "    .dataframe thead th {\n",
              "        text-align: right;\n",
              "    }\n",
              "</style>\n",
              "<table border=\"1\" class=\"dataframe\">\n",
              "  <thead>\n",
              "    <tr style=\"text-align: right;\">\n",
              "      <th></th>\n",
              "      <th>beta</th>\n",
              "      <th>exponential</th>\n",
              "      <th>normal_p</th>\n",
              "      <th>normal_l</th>\n",
              "      <th>bimodal</th>\n",
              "    </tr>\n",
              "  </thead>\n",
              "  <tbody>\n",
              "    <tr>\n",
              "      <th>count</th>\n",
              "      <td>1000.000000</td>\n",
              "      <td>1000.000000</td>\n",
              "      <td>1000.000000</td>\n",
              "      <td>1000.000000</td>\n",
              "      <td>1000.000000</td>\n",
              "    </tr>\n",
              "    <tr>\n",
              "      <th>mean</th>\n",
              "      <td>49.885510</td>\n",
              "      <td>9.885155</td>\n",
              "      <td>9.883885</td>\n",
              "      <td>9.985132</td>\n",
              "      <td>0.232021</td>\n",
              "    </tr>\n",
              "    <tr>\n",
              "      <th>std</th>\n",
              "      <td>8.609111</td>\n",
              "      <td>9.645224</td>\n",
              "      <td>1.929346</td>\n",
              "      <td>9.811773</td>\n",
              "      <td>20.341189</td>\n",
              "    </tr>\n",
              "    <tr>\n",
              "      <th>min</th>\n",
              "      <td>15.393848</td>\n",
              "      <td>0.020793</td>\n",
              "      <td>4.635912</td>\n",
              "      <td>-23.928520</td>\n",
              "      <td>-29.877752</td>\n",
              "    </tr>\n",
              "    <tr>\n",
              "      <th>25%</th>\n",
              "      <td>45.104611</td>\n",
              "      <td>3.072710</td>\n",
              "      <td>8.523083</td>\n",
              "      <td>3.578811</td>\n",
              "      <td>-19.820132</td>\n",
              "    </tr>\n",
              "    <tr>\n",
              "      <th>50%</th>\n",
              "      <td>52.559372</td>\n",
              "      <td>6.793542</td>\n",
              "      <td>9.879960</td>\n",
              "      <td>10.358689</td>\n",
              "      <td>0.378191</td>\n",
              "    </tr>\n",
              "    <tr>\n",
              "      <th>75%</th>\n",
              "      <td>56.675449</td>\n",
              "      <td>13.780956</td>\n",
              "      <td>11.230966</td>\n",
              "      <td>16.641070</td>\n",
              "      <td>20.150185</td>\n",
              "    </tr>\n",
              "    <tr>\n",
              "      <th>max</th>\n",
              "      <td>59.997564</td>\n",
              "      <td>67.962240</td>\n",
              "      <td>15.525607</td>\n",
              "      <td>39.708670</td>\n",
              "      <td>28.222356</td>\n",
              "    </tr>\n",
              "  </tbody>\n",
              "</table>\n",
              "</div>\n",
              "      <button class=\"colab-df-convert\" onclick=\"convertToInteractive('df-c2b105d4-e2e2-4751-85ec-ec0d379396e5')\"\n",
              "              title=\"Convert this dataframe to an interactive table.\"\n",
              "              style=\"display:none;\">\n",
              "        \n",
              "  <svg xmlns=\"http://www.w3.org/2000/svg\" height=\"24px\"viewBox=\"0 0 24 24\"\n",
              "       width=\"24px\">\n",
              "    <path d=\"M0 0h24v24H0V0z\" fill=\"none\"/>\n",
              "    <path d=\"M18.56 5.44l.94 2.06.94-2.06 2.06-.94-2.06-.94-.94-2.06-.94 2.06-2.06.94zm-11 1L8.5 8.5l.94-2.06 2.06-.94-2.06-.94L8.5 2.5l-.94 2.06-2.06.94zm10 10l.94 2.06.94-2.06 2.06-.94-2.06-.94-.94-2.06-.94 2.06-2.06.94z\"/><path d=\"M17.41 7.96l-1.37-1.37c-.4-.4-.92-.59-1.43-.59-.52 0-1.04.2-1.43.59L10.3 9.45l-7.72 7.72c-.78.78-.78 2.05 0 2.83L4 21.41c.39.39.9.59 1.41.59.51 0 1.02-.2 1.41-.59l7.78-7.78 2.81-2.81c.8-.78.8-2.07 0-2.86zM5.41 20L4 18.59l7.72-7.72 1.47 1.35L5.41 20z\"/>\n",
              "  </svg>\n",
              "      </button>\n",
              "      \n",
              "  <style>\n",
              "    .colab-df-container {\n",
              "      display:flex;\n",
              "      flex-wrap:wrap;\n",
              "      gap: 12px;\n",
              "    }\n",
              "\n",
              "    .colab-df-convert {\n",
              "      background-color: #E8F0FE;\n",
              "      border: none;\n",
              "      border-radius: 50%;\n",
              "      cursor: pointer;\n",
              "      display: none;\n",
              "      fill: #1967D2;\n",
              "      height: 32px;\n",
              "      padding: 0 0 0 0;\n",
              "      width: 32px;\n",
              "    }\n",
              "\n",
              "    .colab-df-convert:hover {\n",
              "      background-color: #E2EBFA;\n",
              "      box-shadow: 0px 1px 2px rgba(60, 64, 67, 0.3), 0px 1px 3px 1px rgba(60, 64, 67, 0.15);\n",
              "      fill: #174EA6;\n",
              "    }\n",
              "\n",
              "    [theme=dark] .colab-df-convert {\n",
              "      background-color: #3B4455;\n",
              "      fill: #D2E3FC;\n",
              "    }\n",
              "\n",
              "    [theme=dark] .colab-df-convert:hover {\n",
              "      background-color: #434B5C;\n",
              "      box-shadow: 0px 1px 3px 1px rgba(0, 0, 0, 0.15);\n",
              "      filter: drop-shadow(0px 1px 2px rgba(0, 0, 0, 0.3));\n",
              "      fill: #FFFFFF;\n",
              "    }\n",
              "  </style>\n",
              "\n",
              "      <script>\n",
              "        const buttonEl =\n",
              "          document.querySelector('#df-c2b105d4-e2e2-4751-85ec-ec0d379396e5 button.colab-df-convert');\n",
              "        buttonEl.style.display =\n",
              "          google.colab.kernel.accessAllowed ? 'block' : 'none';\n",
              "\n",
              "        async function convertToInteractive(key) {\n",
              "          const element = document.querySelector('#df-c2b105d4-e2e2-4751-85ec-ec0d379396e5');\n",
              "          const dataTable =\n",
              "            await google.colab.kernel.invokeFunction('convertToInteractive',\n",
              "                                                     [key], {});\n",
              "          if (!dataTable) return;\n",
              "\n",
              "          const docLinkHtml = 'Like what you see? Visit the ' +\n",
              "            '<a target=\"_blank\" href=https://colab.research.google.com/notebooks/data_table.ipynb>data table notebook</a>'\n",
              "            + ' to learn more about interactive tables.';\n",
              "          element.innerHTML = '';\n",
              "          dataTable['output_type'] = 'display_data';\n",
              "          await google.colab.output.renderOutput(dataTable, element);\n",
              "          const docLink = document.createElement('div');\n",
              "          docLink.innerHTML = docLinkHtml;\n",
              "          element.appendChild(docLink);\n",
              "        }\n",
              "      </script>\n",
              "    </div>\n",
              "  </div>\n",
              "  "
            ],
            "text/plain": [
              "              beta  exponential     normal_p     normal_l      bimodal\n",
              "count  1000.000000  1000.000000  1000.000000  1000.000000  1000.000000\n",
              "mean     49.885510     9.885155     9.883885     9.985132     0.232021\n",
              "std       8.609111     9.645224     1.929346     9.811773    20.341189\n",
              "min      15.393848     0.020793     4.635912   -23.928520   -29.877752\n",
              "25%      45.104611     3.072710     8.523083     3.578811   -19.820132\n",
              "50%      52.559372     6.793542     9.879960    10.358689     0.378191\n",
              "75%      56.675449    13.780956    11.230966    16.641070    20.150185\n",
              "max      59.997564    67.962240    15.525607    39.708670    28.222356"
            ]
          },
          "metadata": {},
          "execution_count": 4
        }
      ]
    },
    {
      "cell_type": "markdown",
      "source": [
        "![image.png](data:image/png;base64,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)"
      ],
      "metadata": {
        "id": "e931YYM89bZT"
      }
    },
    {
      "cell_type": "code",
      "source": [
        "normal_big = np.random.normal(1000000, 10000, (1000,1))  # normal distribution of large values\n",
        "df['normal_big'] = normal_big\n",
        "sns.kdeplot(data=df)"
      ],
      "metadata": {
        "colab": {
          "base_uri": "https://localhost:8080/",
          "height": 295
        },
        "id": "_2ZY0QYT9ZCA",
        "outputId": "20140488-19c0-4805-932b-8ee3bf2b153f"
      },
      "execution_count": 5,
      "outputs": [
        {
          "output_type": "execute_result",
          "data": {
            "text/plain": [
              "<matplotlib.axes._subplots.AxesSubplot at 0x7f68167e7190>"
            ]
          },
          "metadata": {},
          "execution_count": 5
        },
        {
          "output_type": "display_data",
          "data": {
            "image/png": "[encoded data removed]",
            "text/plain": [
              "<Figure size 432x288 with 1 Axes>"
            ]
          },
          "metadata": {
            "needs_background": "light"
          }
        }
      ]
    },
    {
      "cell_type": "code",
      "source": [
        "# trực quan hóa bằng biểu đồ box plot\n",
        "df.boxplot()"
      ],
      "metadata": {
        "colab": {
          "base_uri": "https://localhost:8080/",
          "height": 294
        },
        "id": "N_L6PAFv9c9_",
        "outputId": "20bf735b-8aa4-4f47-f93d-d2ff3ea0e1a9"
      },
      "execution_count": 6,
      "outputs": [
        {
          "output_type": "execute_result",
          "data": {
            "text/plain": [
              "<matplotlib.axes._subplots.AxesSubplot at 0x7f6816249a90>"
            ]
          },
          "metadata": {},
          "execution_count": 6
        },
        {
          "output_type": "display_data",
          "data": {
            "image/png": "[encoded data removed]",
            "text/plain": [
              "<Figure size 432x288 with 1 Axes>"
            ]
          },
          "metadata": {
            "needs_background": "light"
          }
        }
      ]
    },
    {
      "cell_type": "code",
      "source": [
        "# Chuẩn hóa với Robust Scaling\n",
        "# Khai báo đối tượng RobustScaler\n",
        "scaler = RobustScaler()"
      ],
      "metadata": {
        "id": "V0vyZTS19fbI"
      },
      "execution_count": 7,
      "outputs": []
    },
    {
      "cell_type": "code",
      "source": [
        "# Chuẩn hóa dữ liệu trong df với StandardScaler\n",
        "df_s = scaler.fit_transform(df)\n",
        "\n",
        "# lấy danh sáchc cột\n",
        "col_names = list(df.columns)\n",
        "\n",
        "# chuyển về DataFrame, gán các cột của df cho dữ liệu đã được chuẩn hóa\n",
        "df_s = pd.DataFrame(df_s, columns=col_names)"
      ],
      "metadata": {
        "id": "0wW0bszs9lIq"
      },
      "execution_count": 8,
      "outputs": []
    },
    {
      "cell_type": "code",
      "source": [
        "df_s.head()"
      ],
      "metadata": {
        "colab": {
          "base_uri": "https://localhost:8080/",
          "height": 206
        },
        "id": "UNONZUrR9mWZ",
        "outputId": "fa5364bd-a7db-4bf8-91e8-cc1914883c09"
      },
      "execution_count": 9,
      "outputs": [
        {
          "output_type": "execute_result",
          "data": {
            "text/html": [
              "\n",
              "  <div id=\"df-d7a889ca-c42f-4a0d-9c58-bccde4ca10da\">\n",
              "    <div class=\"colab-df-container\">\n",
              "      <div>\n",
              "<style scoped>\n",
              "    .dataframe tbody tr th:only-of-type {\n",
              "        vertical-align: middle;\n",
              "    }\n",
              "\n",
              "    .dataframe tbody tr th {\n",
              "        vertical-align: top;\n",
              "    }\n",
              "\n",
              "    .dataframe thead th {\n",
              "        text-align: right;\n",
              "    }\n",
              "</style>\n",
              "<table border=\"1\" class=\"dataframe\">\n",
              "  <thead>\n",
              "    <tr style=\"text-align: right;\">\n",
              "      <th></th>\n",
              "      <th>beta</th>\n",
              "      <th>exponential</th>\n",
              "      <th>normal_p</th>\n",
              "      <th>normal_l</th>\n",
              "      <th>bimodal</th>\n",
              "      <th>normal_big</th>\n",
              "    </tr>\n",
              "  </thead>\n",
              "  <tbody>\n",
              "    <tr>\n",
              "      <th>0</th>\n",
              "      <td>0.219272</td>\n",
              "      <td>-0.027312</td>\n",
              "      <td>-0.727043</td>\n",
              "      <td>0.684442</td>\n",
              "      <td>0.535392</td>\n",
              "      <td>-0.790723</td>\n",
              "    </tr>\n",
              "    <tr>\n",
              "      <th>1</th>\n",
              "      <td>-2.440395</td>\n",
              "      <td>0.398449</td>\n",
              "      <td>0.273121</td>\n",
              "      <td>0.504769</td>\n",
              "      <td>0.400838</td>\n",
              "      <td>0.725104</td>\n",
              "    </tr>\n",
              "    <tr>\n",
              "      <th>2</th>\n",
              "      <td>-0.127596</td>\n",
              "      <td>-0.499492</td>\n",
              "      <td>0.042830</td>\n",
              "      <td>-0.993204</td>\n",
              "      <td>0.365157</td>\n",
              "      <td>-0.781248</td>\n",
              "    </tr>\n",
              "    <tr>\n",
              "      <th>3</th>\n",
              "      <td>0.609695</td>\n",
              "      <td>0.283660</td>\n",
              "      <td>0.349373</td>\n",
              "      <td>-0.566401</td>\n",
              "      <td>0.499017</td>\n",
              "      <td>-0.200897</td>\n",
              "    </tr>\n",
              "    <tr>\n",
              "      <th>4</th>\n",
              "      <td>0.327731</td>\n",
              "      <td>2.784627</td>\n",
              "      <td>0.143817</td>\n",
              "      <td>-0.661049</td>\n",
              "      <td>0.475921</td>\n",
              "      <td>-1.095914</td>\n",
              "    </tr>\n",
              "  </tbody>\n",
              "</table>\n",
              "</div>\n",
              "      <button class=\"colab-df-convert\" onclick=\"convertToInteractive('df-d7a889ca-c42f-4a0d-9c58-bccde4ca10da')\"\n",
              "              title=\"Convert this dataframe to an interactive table.\"\n",
              "              style=\"display:none;\">\n",
              "        \n",
              "  <svg xmlns=\"http://www.w3.org/2000/svg\" height=\"24px\"viewBox=\"0 0 24 24\"\n",
              "       width=\"24px\">\n",
              "    <path d=\"M0 0h24v24H0V0z\" fill=\"none\"/>\n",
              "    <path d=\"M18.56 5.44l.94 2.06.94-2.06 2.06-.94-2.06-.94-.94-2.06-.94 2.06-2.06.94zm-11 1L8.5 8.5l.94-2.06 2.06-.94-2.06-.94L8.5 2.5l-.94 2.06-2.06.94zm10 10l.94 2.06.94-2.06 2.06-.94-2.06-.94-.94-2.06-.94 2.06-2.06.94z\"/><path d=\"M17.41 7.96l-1.37-1.37c-.4-.4-.92-.59-1.43-.59-.52 0-1.04.2-1.43.59L10.3 9.45l-7.72 7.72c-.78.78-.78 2.05 0 2.83L4 21.41c.39.39.9.59 1.41.59.51 0 1.02-.2 1.41-.59l7.78-7.78 2.81-2.81c.8-.78.8-2.07 0-2.86zM5.41 20L4 18.59l7.72-7.72 1.47 1.35L5.41 20z\"/>\n",
              "  </svg>\n",
              "      </button>\n",
              "      \n",
              "  <style>\n",
              "    .colab-df-container {\n",
              "      display:flex;\n",
              "      flex-wrap:wrap;\n",
              "      gap: 12px;\n",
              "    }\n",
              "\n",
              "    .colab-df-convert {\n",
              "      background-color: #E8F0FE;\n",
              "      border: none;\n",
              "      border-radius: 50%;\n",
              "      cursor: pointer;\n",
              "      display: none;\n",
              "      fill: #1967D2;\n",
              "      height: 32px;\n",
              "      padding: 0 0 0 0;\n",
              "      width: 32px;\n",
              "    }\n",
              "\n",
              "    .colab-df-convert:hover {\n",
              "      background-color: #E2EBFA;\n",
              "      box-shadow: 0px 1px 2px rgba(60, 64, 67, 0.3), 0px 1px 3px 1px rgba(60, 64, 67, 0.15);\n",
              "      fill: #174EA6;\n",
              "    }\n",
              "\n",
              "    [theme=dark] .colab-df-convert {\n",
              "      background-color: #3B4455;\n",
              "      fill: #D2E3FC;\n",
              "    }\n",
              "\n",
              "    [theme=dark] .colab-df-convert:hover {\n",
              "      background-color: #434B5C;\n",
              "      box-shadow: 0px 1px 3px 1px rgba(0, 0, 0, 0.15);\n",
              "      filter: drop-shadow(0px 1px 2px rgba(0, 0, 0, 0.3));\n",
              "      fill: #FFFFFF;\n",
              "    }\n",
              "  </style>\n",
              "\n",
              "      <script>\n",
              "        const buttonEl =\n",
              "          document.querySelector('#df-d7a889ca-c42f-4a0d-9c58-bccde4ca10da button.colab-df-convert');\n",
              "        buttonEl.style.display =\n",
              "          google.colab.kernel.accessAllowed ? 'block' : 'none';\n",
              "\n",
              "        async function convertToInteractive(key) {\n",
              "          const element = document.querySelector('#df-d7a889ca-c42f-4a0d-9c58-bccde4ca10da');\n",
              "          const dataTable =\n",
              "            await google.colab.kernel.invokeFunction('convertToInteractive',\n",
              "                                                     [key], {});\n",
              "          if (!dataTable) return;\n",
              "\n",
              "          const docLinkHtml = 'Like what you see? Visit the ' +\n",
              "            '<a target=\"_blank\" href=https://colab.research.google.com/notebooks/data_table.ipynb>data table notebook</a>'\n",
              "            + ' to learn more about interactive tables.';\n",
              "          element.innerHTML = '';\n",
              "          dataTable['output_type'] = 'display_data';\n",
              "          await google.colab.output.renderOutput(dataTable, element);\n",
              "          const docLink = document.createElement('div');\n",
              "          docLink.innerHTML = docLinkHtml;\n",
              "          element.appendChild(docLink);\n",
              "        }\n",
              "      </script>\n",
              "    </div>\n",
              "  </div>\n",
              "  "
            ],
            "text/plain": [
              "       beta  exponential  normal_p  normal_l   bimodal  normal_big\n",
              "0  0.219272    -0.027312 -0.727043  0.684442  0.535392   -0.790723\n",
              "1 -2.440395     0.398449  0.273121  0.504769  0.400838    0.725104\n",
              "2 -0.127596    -0.499492  0.042830 -0.993204  0.365157   -0.781248\n",
              "3  0.609695     0.283660  0.349373 -0.566401  0.499017   -0.200897\n",
              "4  0.327731     2.784627  0.143817 -0.661049  0.475921   -1.095914"
            ]
          },
          "metadata": {},
          "execution_count": 9
        }
      ]
    },
    {
      "cell_type": "code",
      "source": [
        "# biểu diễn dữ liệu đã được chuẩn hóa\n",
        "sns.kdeplot(data=df_s)"
      ],
      "metadata": {
        "colab": {
          "base_uri": "https://localhost:8080/",
          "height": 282
        },
        "id": "eoWo1Mc79nTK",
        "outputId": "008234ba-96d3-40af-be50-612b59d38fdf"
      },
      "execution_count": 10,
      "outputs": [
        {
          "output_type": "execute_result",
          "data": {
            "text/plain": [
              "<matplotlib.axes._subplots.AxesSubplot at 0x7f6816170b50>"
            ]
          },
          "metadata": {},
          "execution_count": 10
        },
        {
          "output_type": "display_data",
          "data": {
            "image/png": "[encoded data removed]",
            "text/plain": [
              "<Figure size 432x288 with 1 Axes>"
            ]
          },
          "metadata": {
            "needs_background": "light"
          }
        }
      ]
    },
    {
      "cell_type": "code",
      "source": [
        "# thống kê về dữ liệu được sinh ra\n",
        "df_s.describe()"
      ],
      "metadata": {
        "colab": {
          "base_uri": "https://localhost:8080/",
          "height": 300
        },
        "id": "c_QD_6Cx9oas",
        "outputId": "099263fc-453e-44a8-d632-3e3c74466a3c"
      },
      "execution_count": 11,
      "outputs": [
        {
          "output_type": "execute_result",
          "data": {
            "text/html": [
              "\n",
              "  <div id=\"df-de842646-e489-43e0-b756-9cb04ed31358\">\n",
              "    <div class=\"colab-df-container\">\n",
              "      <div>\n",
              "<style scoped>\n",
              "    .dataframe tbody tr th:only-of-type {\n",
              "        vertical-align: middle;\n",
              "    }\n",
              "\n",
              "    .dataframe tbody tr th {\n",
              "        vertical-align: top;\n",
              "    }\n",
              "\n",
              "    .dataframe thead th {\n",
              "        text-align: right;\n",
              "    }\n",
              "</style>\n",
              "<table border=\"1\" class=\"dataframe\">\n",
              "  <thead>\n",
              "    <tr style=\"text-align: right;\">\n",
              "      <th></th>\n",
              "      <th>beta</th>\n",
              "      <th>exponential</th>\n",
              "      <th>normal_p</th>\n",
              "      <th>normal_l</th>\n",
              "      <th>bimodal</th>\n",
              "      <th>normal_big</th>\n",
              "    </tr>\n",
              "  </thead>\n",
              "  <tbody>\n",
              "    <tr>\n",
              "      <th>count</th>\n",
              "      <td>1.000000e+03</td>\n",
              "      <td>1000.000000</td>\n",
              "      <td>1.000000e+03</td>\n",
              "      <td>1000.000000</td>\n",
              "      <td>1000.000000</td>\n",
              "      <td>1000.000000</td>\n",
              "    </tr>\n",
              "    <tr>\n",
              "      <th>mean</th>\n",
              "      <td>-2.310862e-01</td>\n",
              "      <td>0.288713</td>\n",
              "      <td>1.449499e-03</td>\n",
              "      <td>-0.028598</td>\n",
              "      <td>-0.003657</td>\n",
              "      <td>0.017613</td>\n",
              "    </tr>\n",
              "    <tr>\n",
              "      <th>std</th>\n",
              "      <td>7.440352e-01</td>\n",
              "      <td>0.900729</td>\n",
              "      <td>7.124924e-01</td>\n",
              "      <td>0.751154</td>\n",
              "      <td>0.508907</td>\n",
              "      <td>0.707827</td>\n",
              "    </tr>\n",
              "    <tr>\n",
              "      <th>min</th>\n",
              "      <td>-3.211999e+00</td>\n",
              "      <td>-0.632480</td>\n",
              "      <td>-1.936586e+00</td>\n",
              "      <td>-2.624906</td>\n",
              "      <td>-0.756960</td>\n",
              "      <td>-2.440241</td>\n",
              "    </tr>\n",
              "    <tr>\n",
              "      <th>25%</th>\n",
              "      <td>-6.442715e-01</td>\n",
              "      <td>-0.347474</td>\n",
              "      <td>-5.010842e-01</td>\n",
              "      <td>-0.519043</td>\n",
              "      <td>-0.505333</td>\n",
              "      <td>-0.474787</td>\n",
              "    </tr>\n",
              "    <tr>\n",
              "      <th>50%</th>\n",
              "      <td>3.070461e-16</td>\n",
              "      <td>0.000000</td>\n",
              "      <td>3.278627e-16</td>\n",
              "      <td>0.000000</td>\n",
              "      <td>0.000000</td>\n",
              "      <td>0.000000</td>\n",
              "    </tr>\n",
              "    <tr>\n",
              "      <th>75%</th>\n",
              "      <td>3.557285e-01</td>\n",
              "      <td>0.652526</td>\n",
              "      <td>4.989158e-01</td>\n",
              "      <td>0.480957</td>\n",
              "      <td>0.494667</td>\n",
              "      <td>0.525213</td>\n",
              "    </tr>\n",
              "    <tr>\n",
              "      <th>max</th>\n",
              "      <td>6.428395e-01</td>\n",
              "      <td>5.712298</td>\n",
              "      <td>2.084893e+00</td>\n",
              "      <td>2.246930</td>\n",
              "      <td>0.696621</td>\n",
              "      <td>2.153261</td>\n",
              "    </tr>\n",
              "  </tbody>\n",
              "</table>\n",
              "</div>\n",
              "      <button class=\"colab-df-convert\" onclick=\"convertToInteractive('df-de842646-e489-43e0-b756-9cb04ed31358')\"\n",
              "              title=\"Convert this dataframe to an interactive table.\"\n",
              "              style=\"display:none;\">\n",
              "        \n",
              "  <svg xmlns=\"http://www.w3.org/2000/svg\" height=\"24px\"viewBox=\"0 0 24 24\"\n",
              "       width=\"24px\">\n",
              "    <path d=\"M0 0h24v24H0V0z\" fill=\"none\"/>\n",
              "    <path d=\"M18.56 5.44l.94 2.06.94-2.06 2.06-.94-2.06-.94-.94-2.06-.94 2.06-2.06.94zm-11 1L8.5 8.5l.94-2.06 2.06-.94-2.06-.94L8.5 2.5l-.94 2.06-2.06.94zm10 10l.94 2.06.94-2.06 2.06-.94-2.06-.94-.94-2.06-.94 2.06-2.06.94z\"/><path d=\"M17.41 7.96l-1.37-1.37c-.4-.4-.92-.59-1.43-.59-.52 0-1.04.2-1.43.59L10.3 9.45l-7.72 7.72c-.78.78-.78 2.05 0 2.83L4 21.41c.39.39.9.59 1.41.59.51 0 1.02-.2 1.41-.59l7.78-7.78 2.81-2.81c.8-.78.8-2.07 0-2.86zM5.41 20L4 18.59l7.72-7.72 1.47 1.35L5.41 20z\"/>\n",
              "  </svg>\n",
              "      </button>\n",
              "      \n",
              "  <style>\n",
              "    .colab-df-container {\n",
              "      display:flex;\n",
              "      flex-wrap:wrap;\n",
              "      gap: 12px;\n",
              "    }\n",
              "\n",
              "    .colab-df-convert {\n",
              "      background-color: #E8F0FE;\n",
              "      border: none;\n",
              "      border-radius: 50%;\n",
              "      cursor: pointer;\n",
              "      display: none;\n",
              "      fill: #1967D2;\n",
              "      height: 32px;\n",
              "      padding: 0 0 0 0;\n",
              "      width: 32px;\n",
              "    }\n",
              "\n",
              "    .colab-df-convert:hover {\n",
              "      background-color: #E2EBFA;\n",
              "      box-shadow: 0px 1px 2px rgba(60, 64, 67, 0.3), 0px 1px 3px 1px rgba(60, 64, 67, 0.15);\n",
              "      fill: #174EA6;\n",
              "    }\n",
              "\n",
              "    [theme=dark] .colab-df-convert {\n",
              "      background-color: #3B4455;\n",
              "      fill: #D2E3FC;\n",
              "    }\n",
              "\n",
              "    [theme=dark] .colab-df-convert:hover {\n",
              "      background-color: #434B5C;\n",
              "      box-shadow: 0px 1px 3px 1px rgba(0, 0, 0, 0.15);\n",
              "      filter: drop-shadow(0px 1px 2px rgba(0, 0, 0, 0.3));\n",
              "      fill: #FFFFFF;\n",
              "    }\n",
              "  </style>\n",
              "\n",
              "      <script>\n",
              "        const buttonEl =\n",
              "          document.querySelector('#df-de842646-e489-43e0-b756-9cb04ed31358 button.colab-df-convert');\n",
              "        buttonEl.style.display =\n",
              "          google.colab.kernel.accessAllowed ? 'block' : 'none';\n",
              "\n",
              "        async function convertToInteractive(key) {\n",
              "          const element = document.querySelector('#df-de842646-e489-43e0-b756-9cb04ed31358');\n",
              "          const dataTable =\n",
              "            await google.colab.kernel.invokeFunction('convertToInteractive',\n",
              "                                                     [key], {});\n",
              "          if (!dataTable) return;\n",
              "\n",
              "          const docLinkHtml = 'Like what you see? Visit the ' +\n",
              "            '<a target=\"_blank\" href=https://colab.research.google.com/notebooks/data_table.ipynb>data table notebook</a>'\n",
              "            + ' to learn more about interactive tables.';\n",
              "          element.innerHTML = '';\n",
              "          dataTable['output_type'] = 'display_data';\n",
              "          await google.colab.output.renderOutput(dataTable, element);\n",
              "          const docLink = document.createElement('div');\n",
              "          docLink.innerHTML = docLinkHtml;\n",
              "          element.appendChild(docLink);\n",
              "        }\n",
              "      </script>\n",
              "    </div>\n",
              "  </div>\n",
              "  "
            ],
            "text/plain": [
              "               beta  exponential  ...      bimodal   normal_big\n",
              "count  1.000000e+03  1000.000000  ...  1000.000000  1000.000000\n",
              "mean  -2.310862e-01     0.288713  ...    -0.003657     0.017613\n",
              "std    7.440352e-01     0.900729  ...     0.508907     0.707827\n",
              "min   -3.211999e+00    -0.632480  ...    -0.756960    -2.440241\n",
              "25%   -6.442715e-01    -0.347474  ...    -0.505333    -0.474787\n",
              "50%    3.070461e-16     0.000000  ...     0.000000     0.000000\n",
              "75%    3.557285e-01     0.652526  ...     0.494667     0.525213\n",
              "max    6.428395e-01     5.712298  ...     0.696621     2.153261\n",
              "\n",
              "[8 rows x 6 columns]"
            ]
          },
          "metadata": {},
          "execution_count": 11
        }
      ]
    },
    {
      "cell_type": "code",
      "source": [
        "df_s.boxplot()"
      ],
      "metadata": {
        "colab": {
          "base_uri": "https://localhost:8080/",
          "height": 284
        },
        "id": "KFD09mk99qiq",
        "outputId": "410ad622-2cfb-4c53-e273-b1d8c9b8e8c2"
      },
      "execution_count": 12,
      "outputs": [
        {
          "output_type": "execute_result",
          "data": {
            "text/plain": [
              "<matplotlib.axes._subplots.AxesSubplot at 0x7f6816100690>"
            ]
          },
          "metadata": {},
          "execution_count": 12
        },
        {
          "output_type": "display_data",
          "data": {
            "image/png": "[encoded data removed]",
            "text/plain": [
              "<Figure size 432x288 with 1 Axes>"
            ]
          },
          "metadata": {
            "needs_background": "light"
          }
        }
      ]
    },
    {
      "cell_type": "code",
      "source": [
        "# lấy các giá trị min ở mỗi cột\n",
        "mins = [df_s[col].min() for col in df_s.columns]\n",
        "mins"
      ],
      "metadata": {
        "colab": {
          "base_uri": "https://localhost:8080/"
        },
        "id": "gLbdv5Cv9r5A",
        "outputId": "121f7c7e-fa81-41a9-e998-2659e91d9150"
      },
      "execution_count": 13,
      "outputs": [
        {
          "output_type": "execute_result",
          "data": {
            "text/plain": [
              "[-3.211999321136189,\n",
              " -0.6324798194313844,\n",
              " -1.9365859780440093,\n",
              " -2.624906341690049,\n",
              " -0.7569603195633219,\n",
              " -2.440241049474922]"
            ]
          },
          "metadata": {},
          "execution_count": 13
        }
      ]
    },
    {
      "cell_type": "code",
      "source": [
        "# lấy giá trị max ở mỗi cột\n",
        "maxs = [df_s[col].max() for col in df_s.columns]\n",
        "maxs"
      ],
      "metadata": {
        "colab": {
          "base_uri": "https://localhost:8080/"
        },
        "id": "UOC5pMcv9s-D",
        "outputId": "48e29cba-0b47-40d5-fd32-343952bd0c5a"
      },
      "execution_count": 14,
      "outputs": [
        {
          "output_type": "execute_result",
          "data": {
            "text/plain": [
              "[0.6428395375974136,\n",
              " 5.712298487899714,\n",
              " 2.084892956870555,\n",
              " 2.2469298632619163,\n",
              " 0.6966210733128302,\n",
              " 2.1532611764018528]"
            ]
          },
          "metadata": {},
          "execution_count": 14
        }
      ]
    },
    {
      "cell_type": "code",
      "source": [
        "# giá trị trung vị của các đặc trưng của tập dữ liệu gốc\n",
        "scaler.center_"
      ],
      "metadata": {
        "id": "OkRPTLVg9uZP",
        "outputId": "ba383d1d-e88f-43d4-b6ea-93c039765260",
        "colab": {
          "base_uri": "https://localhost:8080/"
        }
      },
      "execution_count": 15,
      "outputs": [
        {
          "output_type": "execute_result",
          "data": {
            "text/plain": [
              "array([5.25593719e+01, 6.79354205e+00, 9.87996038e+00, 1.03586889e+01,\n",
              "       3.78191297e-01, 9.99692708e+05])"
            ]
          },
          "metadata": {},
          "execution_count": 15
        }
      ]
    },
    {
      "cell_type": "code",
      "source": [
        ""
      ],
      "metadata": {
        "id": "EwU3OJxa9wGg"
      },
      "execution_count": null,
      "outputs": []
    }
  ]
}