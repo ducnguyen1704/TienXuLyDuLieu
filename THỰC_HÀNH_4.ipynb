{
  "nbformat": 4,
  "nbformat_minor": 0,
  "metadata": {
    "colab": {
      "name": "THỰC HÀNH 4.ipynb",
      "provenance": [],
      "authorship_tag": "ABX9TyO2+IsVSegXuEjzGCSkC6Ej",
      "include_colab_link": true
    },
    "kernelspec": {
      "name": "python3",
      "display_name": "Python 3"
    },
    "language_info": {
      "name": "python"
    }
  },
  "cells": [
    {
      "cell_type": "markdown",
      "metadata": {
        "id": "view-in-github",
        "colab_type": "text"
      },
      "source": [
        "<a href=\"https://colab.research.google.com/github/ducnguyen1704/TienXuLyDuLieu/blob/master/TH%E1%BB%B0C_H%C3%80NH_4.ipynb\" target=\"_parent\"><img src=\"https://colab.research.google.com/assets/colab-badge.svg\" alt=\"Open In Colab\"/></a>"
      ]
    },
    {
      "cell_type": "markdown",
      "source": [
        "# [Thực hành] Phân tích review của khách hàng"
      ],
      "metadata": {
        "id": "FzwLsXCd-AWr"
      }
    },
    {
      "cell_type": "code",
      "execution_count": 1,
      "metadata": {
        "id": "0wFFEBa39-ir"
      },
      "outputs": [],
      "source": [
        "import pandas as pd\n",
        "import seaborn as sns\n",
        "import numpy as np\n",
        "from sklearn.preprocessing import MinMaxScaler, RobustScaler, StandardScaler"
      ]
    },
    {
      "cell_type": "code",
      "source": [
        "df = pd.read_csv(\"https://s3.ap-southeast-1.amazonaws.com/learn.codegym.vn/media/public/2022/01/26023345/Credit_Scoring.csv\")\n",
        "df.head(10)"
      ],
      "metadata": {
        "colab": {
          "base_uri": "https://localhost:8080/",
          "height": 444
        },
        "id": "_sXfMEiD-Hd5",
        "outputId": "b2f6eef9-c290-4b42-ead3-4136d68aa691"
      },
      "execution_count": 2,
      "outputs": [
        {
          "output_type": "execute_result",
          "data": {
            "text/html": [
              "\n",
              "  <div id=\"df-c3985892-4bd0-4f17-9fcc-5853e69ad5c4\">\n",
              "    <div class=\"colab-df-container\">\n",
              "      <div>\n",
              "<style scoped>\n",
              "    .dataframe tbody tr th:only-of-type {\n",
              "        vertical-align: middle;\n",
              "    }\n",
              "\n",
              "    .dataframe tbody tr th {\n",
              "        vertical-align: top;\n",
              "    }\n",
              "\n",
              "    .dataframe thead th {\n",
              "        text-align: right;\n",
              "    }\n",
              "</style>\n",
              "<table border=\"1\" class=\"dataframe\">\n",
              "  <thead>\n",
              "    <tr style=\"text-align: right;\">\n",
              "      <th></th>\n",
              "      <th>Unnamed: 0</th>\n",
              "      <th>SeriousDlqin2yrs</th>\n",
              "      <th>RevolvingUtilizationOfUnsecuredLines</th>\n",
              "      <th>age</th>\n",
              "      <th>NumberOfTime30-59DaysPastDueNotWorse</th>\n",
              "      <th>DebtRatio</th>\n",
              "      <th>MonthlyIncome</th>\n",
              "      <th>NumberOfOpenCreditLinesAndLoans</th>\n",
              "      <th>NumberOfTimes90DaysLate</th>\n",
              "      <th>NumberRealEstateLoansOrLines</th>\n",
              "      <th>NumberOfTime60-89DaysPastDueNotWorse</th>\n",
              "      <th>NumberOfDependents</th>\n",
              "    </tr>\n",
              "  </thead>\n",
              "  <tbody>\n",
              "    <tr>\n",
              "      <th>0</th>\n",
              "      <td>9</td>\n",
              "      <td>0</td>\n",
              "      <td>0.116951</td>\n",
              "      <td>27</td>\n",
              "      <td>0</td>\n",
              "      <td>46.000000</td>\n",
              "      <td>NaN</td>\n",
              "      <td>2</td>\n",
              "      <td>0</td>\n",
              "      <td>0</td>\n",
              "      <td>0</td>\n",
              "      <td>NaN</td>\n",
              "    </tr>\n",
              "    <tr>\n",
              "      <th>1</th>\n",
              "      <td>10</td>\n",
              "      <td>0</td>\n",
              "      <td>0.189169</td>\n",
              "      <td>57</td>\n",
              "      <td>0</td>\n",
              "      <td>0.606291</td>\n",
              "      <td>23684.0</td>\n",
              "      <td>9</td>\n",
              "      <td>0</td>\n",
              "      <td>4</td>\n",
              "      <td>0</td>\n",
              "      <td>2.0</td>\n",
              "    </tr>\n",
              "    <tr>\n",
              "      <th>2</th>\n",
              "      <td>11</td>\n",
              "      <td>0</td>\n",
              "      <td>0.644226</td>\n",
              "      <td>30</td>\n",
              "      <td>0</td>\n",
              "      <td>0.309476</td>\n",
              "      <td>2500.0</td>\n",
              "      <td>5</td>\n",
              "      <td>0</td>\n",
              "      <td>0</td>\n",
              "      <td>0</td>\n",
              "      <td>0.0</td>\n",
              "    </tr>\n",
              "    <tr>\n",
              "      <th>3</th>\n",
              "      <td>12</td>\n",
              "      <td>0</td>\n",
              "      <td>0.018798</td>\n",
              "      <td>51</td>\n",
              "      <td>0</td>\n",
              "      <td>0.531529</td>\n",
              "      <td>6501.0</td>\n",
              "      <td>7</td>\n",
              "      <td>0</td>\n",
              "      <td>2</td>\n",
              "      <td>0</td>\n",
              "      <td>2.0</td>\n",
              "    </tr>\n",
              "    <tr>\n",
              "      <th>4</th>\n",
              "      <td>13</td>\n",
              "      <td>0</td>\n",
              "      <td>0.010352</td>\n",
              "      <td>46</td>\n",
              "      <td>0</td>\n",
              "      <td>0.298354</td>\n",
              "      <td>12454.0</td>\n",
              "      <td>13</td>\n",
              "      <td>0</td>\n",
              "      <td>2</td>\n",
              "      <td>0</td>\n",
              "      <td>2.0</td>\n",
              "    </tr>\n",
              "    <tr>\n",
              "      <th>5</th>\n",
              "      <td>14</td>\n",
              "      <td>1</td>\n",
              "      <td>0.964673</td>\n",
              "      <td>40</td>\n",
              "      <td>3</td>\n",
              "      <td>0.382965</td>\n",
              "      <td>13700.0</td>\n",
              "      <td>9</td>\n",
              "      <td>3</td>\n",
              "      <td>1</td>\n",
              "      <td>1</td>\n",
              "      <td>2.0</td>\n",
              "    </tr>\n",
              "    <tr>\n",
              "      <th>6</th>\n",
              "      <td>15</td>\n",
              "      <td>0</td>\n",
              "      <td>0.019657</td>\n",
              "      <td>76</td>\n",
              "      <td>0</td>\n",
              "      <td>477.000000</td>\n",
              "      <td>0.0</td>\n",
              "      <td>6</td>\n",
              "      <td>0</td>\n",
              "      <td>1</td>\n",
              "      <td>0</td>\n",
              "      <td>0.0</td>\n",
              "    </tr>\n",
              "    <tr>\n",
              "      <th>7</th>\n",
              "      <td>16</td>\n",
              "      <td>0</td>\n",
              "      <td>0.548458</td>\n",
              "      <td>64</td>\n",
              "      <td>0</td>\n",
              "      <td>0.209892</td>\n",
              "      <td>11362.0</td>\n",
              "      <td>7</td>\n",
              "      <td>0</td>\n",
              "      <td>1</td>\n",
              "      <td>0</td>\n",
              "      <td>2.0</td>\n",
              "    </tr>\n",
              "    <tr>\n",
              "      <th>8</th>\n",
              "      <td>17</td>\n",
              "      <td>0</td>\n",
              "      <td>0.061086</td>\n",
              "      <td>78</td>\n",
              "      <td>0</td>\n",
              "      <td>2058.000000</td>\n",
              "      <td>NaN</td>\n",
              "      <td>10</td>\n",
              "      <td>0</td>\n",
              "      <td>2</td>\n",
              "      <td>0</td>\n",
              "      <td>0.0</td>\n",
              "    </tr>\n",
              "    <tr>\n",
              "      <th>9</th>\n",
              "      <td>18</td>\n",
              "      <td>0</td>\n",
              "      <td>0.166284</td>\n",
              "      <td>53</td>\n",
              "      <td>0</td>\n",
              "      <td>0.188274</td>\n",
              "      <td>8800.0</td>\n",
              "      <td>7</td>\n",
              "      <td>0</td>\n",
              "      <td>0</td>\n",
              "      <td>0</td>\n",
              "      <td>0.0</td>\n",
              "    </tr>\n",
              "  </tbody>\n",
              "</table>\n",
              "</div>\n",
              "      <button class=\"colab-df-convert\" onclick=\"convertToInteractive('df-c3985892-4bd0-4f17-9fcc-5853e69ad5c4')\"\n",
              "              title=\"Convert this dataframe to an interactive table.\"\n",
              "              style=\"display:none;\">\n",
              "        \n",
              "  <svg xmlns=\"http://www.w3.org/2000/svg\" height=\"24px\"viewBox=\"0 0 24 24\"\n",
              "       width=\"24px\">\n",
              "    <path d=\"M0 0h24v24H0V0z\" fill=\"none\"/>\n",
              "    <path d=\"M18.56 5.44l.94 2.06.94-2.06 2.06-.94-2.06-.94-.94-2.06-.94 2.06-2.06.94zm-11 1L8.5 8.5l.94-2.06 2.06-.94-2.06-.94L8.5 2.5l-.94 2.06-2.06.94zm10 10l.94 2.06.94-2.06 2.06-.94-2.06-.94-.94-2.06-.94 2.06-2.06.94z\"/><path d=\"M17.41 7.96l-1.37-1.37c-.4-.4-.92-.59-1.43-.59-.52 0-1.04.2-1.43.59L10.3 9.45l-7.72 7.72c-.78.78-.78 2.05 0 2.83L4 21.41c.39.39.9.59 1.41.59.51 0 1.02-.2 1.41-.59l7.78-7.78 2.81-2.81c.8-.78.8-2.07 0-2.86zM5.41 20L4 18.59l7.72-7.72 1.47 1.35L5.41 20z\"/>\n",
              "  </svg>\n",
              "      </button>\n",
              "      \n",
              "  <style>\n",
              "    .colab-df-container {\n",
              "      display:flex;\n",
              "      flex-wrap:wrap;\n",
              "      gap: 12px;\n",
              "    }\n",
              "\n",
              "    .colab-df-convert {\n",
              "      background-color: #E8F0FE;\n",
              "      border: none;\n",
              "      border-radius: 50%;\n",
              "      cursor: pointer;\n",
              "      display: none;\n",
              "      fill: #1967D2;\n",
              "      height: 32px;\n",
              "      padding: 0 0 0 0;\n",
              "      width: 32px;\n",
              "    }\n",
              "\n",
              "    .colab-df-convert:hover {\n",
              "      background-color: #E2EBFA;\n",
              "      box-shadow: 0px 1px 2px rgba(60, 64, 67, 0.3), 0px 1px 3px 1px rgba(60, 64, 67, 0.15);\n",
              "      fill: #174EA6;\n",
              "    }\n",
              "\n",
              "    [theme=dark] .colab-df-convert {\n",
              "      background-color: #3B4455;\n",
              "      fill: #D2E3FC;\n",
              "    }\n",
              "\n",
              "    [theme=dark] .colab-df-convert:hover {\n",
              "      background-color: #434B5C;\n",
              "      box-shadow: 0px 1px 3px 1px rgba(0, 0, 0, 0.15);\n",
              "      filter: drop-shadow(0px 1px 2px rgba(0, 0, 0, 0.3));\n",
              "      fill: #FFFFFF;\n",
              "    }\n",
              "  </style>\n",
              "\n",
              "      <script>\n",
              "        const buttonEl =\n",
              "          document.querySelector('#df-c3985892-4bd0-4f17-9fcc-5853e69ad5c4 button.colab-df-convert');\n",
              "        buttonEl.style.display =\n",
              "          google.colab.kernel.accessAllowed ? 'block' : 'none';\n",
              "\n",
              "        async function convertToInteractive(key) {\n",
              "          const element = document.querySelector('#df-c3985892-4bd0-4f17-9fcc-5853e69ad5c4');\n",
              "          const dataTable =\n",
              "            await google.colab.kernel.invokeFunction('convertToInteractive',\n",
              "                                                     [key], {});\n",
              "          if (!dataTable) return;\n",
              "\n",
              "          const docLinkHtml = 'Like what you see? Visit the ' +\n",
              "            '<a target=\"_blank\" href=https://colab.research.google.com/notebooks/data_table.ipynb>data table notebook</a>'\n",
              "            + ' to learn more about interactive tables.';\n",
              "          element.innerHTML = '';\n",
              "          dataTable['output_type'] = 'display_data';\n",
              "          await google.colab.output.renderOutput(dataTable, element);\n",
              "          const docLink = document.createElement('div');\n",
              "          docLink.innerHTML = docLinkHtml;\n",
              "          element.appendChild(docLink);\n",
              "        }\n",
              "      </script>\n",
              "    </div>\n",
              "  </div>\n",
              "  "
            ],
            "text/plain": [
              "   Unnamed: 0  ...  NumberOfDependents\n",
              "0           9  ...                 NaN\n",
              "1          10  ...                 2.0\n",
              "2          11  ...                 0.0\n",
              "3          12  ...                 2.0\n",
              "4          13  ...                 2.0\n",
              "5          14  ...                 2.0\n",
              "6          15  ...                 0.0\n",
              "7          16  ...                 2.0\n",
              "8          17  ...                 0.0\n",
              "9          18  ...                 0.0\n",
              "\n",
              "[10 rows x 12 columns]"
            ]
          },
          "metadata": {},
          "execution_count": 2
        }
      ]
    },
    {
      "cell_type": "markdown",
      "source": [
        "![image.png](data:image/png;base64,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)"
      ],
      "metadata": {
        "id": "JWV6TFxEAr_t"
      }
    },
    {
      "cell_type": "code",
      "source": [
        "# thông tin dữ liệu\n",
        "df.info()"
      ],
      "metadata": {
        "colab": {
          "base_uri": "https://localhost:8080/"
        },
        "id": "baYWfVG7-NWI",
        "outputId": "e981fafe-58ab-408e-f508-0b040b4d0bfc"
      },
      "execution_count": 3,
      "outputs": [
        {
          "output_type": "stream",
          "name": "stdout",
          "text": [
            "<class 'pandas.core.frame.DataFrame'>\n",
            "RangeIndex: 149992 entries, 0 to 149991\n",
            "Data columns (total 12 columns):\n",
            " #   Column                                Non-Null Count   Dtype  \n",
            "---  ------                                --------------   -----  \n",
            " 0   Unnamed: 0                            149992 non-null  int64  \n",
            " 1   SeriousDlqin2yrs                      149992 non-null  int64  \n",
            " 2   RevolvingUtilizationOfUnsecuredLines  149992 non-null  float64\n",
            " 3   age                                   149992 non-null  int64  \n",
            " 4   NumberOfTime30-59DaysPastDueNotWorse  149992 non-null  int64  \n",
            " 5   DebtRatio                             149992 non-null  float64\n",
            " 6   MonthlyIncome                         120262 non-null  float64\n",
            " 7   NumberOfOpenCreditLinesAndLoans       149992 non-null  int64  \n",
            " 8   NumberOfTimes90DaysLate               149992 non-null  int64  \n",
            " 9   NumberRealEstateLoansOrLines          149992 non-null  int64  \n",
            " 10  NumberOfTime60-89DaysPastDueNotWorse  149992 non-null  int64  \n",
            " 11  NumberOfDependents                    146068 non-null  float64\n",
            "dtypes: float64(4), int64(8)\n",
            "memory usage: 13.7 MB\n"
          ]
        }
      ]
    },
    {
      "cell_type": "code",
      "source": [
        "# mô tả dữ liệu\n",
        "df.describe()"
      ],
      "metadata": {
        "colab": {
          "base_uri": "https://localhost:8080/",
          "height": 382
        },
        "id": "CmX3wn0RAwoP",
        "outputId": "f2fa9509-942d-4103-dcf2-165451f8843c"
      },
      "execution_count": 4,
      "outputs": [
        {
          "output_type": "execute_result",
          "data": {
            "text/html": [
              "\n",
              "  <div id=\"df-2e7cb379-3cc2-4da7-a45d-7b512f022586\">\n",
              "    <div class=\"colab-df-container\">\n",
              "      <div>\n",
              "<style scoped>\n",
              "    .dataframe tbody tr th:only-of-type {\n",
              "        vertical-align: middle;\n",
              "    }\n",
              "\n",
              "    .dataframe tbody tr th {\n",
              "        vertical-align: top;\n",
              "    }\n",
              "\n",
              "    .dataframe thead th {\n",
              "        text-align: right;\n",
              "    }\n",
              "</style>\n",
              "<table border=\"1\" class=\"dataframe\">\n",
              "  <thead>\n",
              "    <tr style=\"text-align: right;\">\n",
              "      <th></th>\n",
              "      <th>Unnamed: 0</th>\n",
              "      <th>SeriousDlqin2yrs</th>\n",
              "      <th>RevolvingUtilizationOfUnsecuredLines</th>\n",
              "      <th>age</th>\n",
              "      <th>NumberOfTime30-59DaysPastDueNotWorse</th>\n",
              "      <th>DebtRatio</th>\n",
              "      <th>MonthlyIncome</th>\n",
              "      <th>NumberOfOpenCreditLinesAndLoans</th>\n",
              "      <th>NumberOfTimes90DaysLate</th>\n",
              "      <th>NumberRealEstateLoansOrLines</th>\n",
              "      <th>NumberOfTime60-89DaysPastDueNotWorse</th>\n",
              "      <th>NumberOfDependents</th>\n",
              "    </tr>\n",
              "  </thead>\n",
              "  <tbody>\n",
              "    <tr>\n",
              "      <th>count</th>\n",
              "      <td>149992.000000</td>\n",
              "      <td>149992.000000</td>\n",
              "      <td>149992.000000</td>\n",
              "      <td>149992.000000</td>\n",
              "      <td>149992.000000</td>\n",
              "      <td>149992.000000</td>\n",
              "      <td>1.202620e+05</td>\n",
              "      <td>149992.000000</td>\n",
              "      <td>149992.000000</td>\n",
              "      <td>149992.000000</td>\n",
              "      <td>149992.000000</td>\n",
              "      <td>146068.000000</td>\n",
              "    </tr>\n",
              "    <tr>\n",
              "      <th>mean</th>\n",
              "      <td>75004.500000</td>\n",
              "      <td>0.066837</td>\n",
              "      <td>6.048729</td>\n",
              "      <td>52.295516</td>\n",
              "      <td>0.421029</td>\n",
              "      <td>352.985824</td>\n",
              "      <td>6.669872e+03</td>\n",
              "      <td>8.452877</td>\n",
              "      <td>0.265981</td>\n",
              "      <td>1.018221</td>\n",
              "      <td>0.240399</td>\n",
              "      <td>0.757236</td>\n",
              "    </tr>\n",
              "    <tr>\n",
              "      <th>std</th>\n",
              "      <td>43299.105125</td>\n",
              "      <td>0.249740</td>\n",
              "      <td>249.762028</td>\n",
              "      <td>14.771902</td>\n",
              "      <td>4.192890</td>\n",
              "      <td>2037.824499</td>\n",
              "      <td>1.438414e+04</td>\n",
              "      <td>5.146006</td>\n",
              "      <td>4.169414</td>\n",
              "      <td>1.129704</td>\n",
              "      <td>4.155290</td>\n",
              "      <td>1.115103</td>\n",
              "    </tr>\n",
              "    <tr>\n",
              "      <th>min</th>\n",
              "      <td>9.000000</td>\n",
              "      <td>0.000000</td>\n",
              "      <td>0.000000</td>\n",
              "      <td>0.000000</td>\n",
              "      <td>0.000000</td>\n",
              "      <td>0.000000</td>\n",
              "      <td>0.000000e+00</td>\n",
              "      <td>0.000000</td>\n",
              "      <td>0.000000</td>\n",
              "      <td>0.000000</td>\n",
              "      <td>0.000000</td>\n",
              "      <td>0.000000</td>\n",
              "    </tr>\n",
              "    <tr>\n",
              "      <th>25%</th>\n",
              "      <td>37506.750000</td>\n",
              "      <td>0.000000</td>\n",
              "      <td>0.029863</td>\n",
              "      <td>41.000000</td>\n",
              "      <td>0.000000</td>\n",
              "      <td>0.175075</td>\n",
              "      <td>3.400000e+03</td>\n",
              "      <td>5.000000</td>\n",
              "      <td>0.000000</td>\n",
              "      <td>0.000000</td>\n",
              "      <td>0.000000</td>\n",
              "      <td>0.000000</td>\n",
              "    </tr>\n",
              "    <tr>\n",
              "      <th>50%</th>\n",
              "      <td>75004.500000</td>\n",
              "      <td>0.000000</td>\n",
              "      <td>0.154162</td>\n",
              "      <td>52.000000</td>\n",
              "      <td>0.000000</td>\n",
              "      <td>0.366516</td>\n",
              "      <td>5.400000e+03</td>\n",
              "      <td>8.000000</td>\n",
              "      <td>0.000000</td>\n",
              "      <td>1.000000</td>\n",
              "      <td>0.000000</td>\n",
              "      <td>0.000000</td>\n",
              "    </tr>\n",
              "    <tr>\n",
              "      <th>75%</th>\n",
              "      <td>112502.250000</td>\n",
              "      <td>0.000000</td>\n",
              "      <td>0.559012</td>\n",
              "      <td>63.000000</td>\n",
              "      <td>0.000000</td>\n",
              "      <td>0.868292</td>\n",
              "      <td>8.249000e+03</td>\n",
              "      <td>11.000000</td>\n",
              "      <td>0.000000</td>\n",
              "      <td>2.000000</td>\n",
              "      <td>0.000000</td>\n",
              "      <td>1.000000</td>\n",
              "    </tr>\n",
              "    <tr>\n",
              "      <th>max</th>\n",
              "      <td>150000.000000</td>\n",
              "      <td>1.000000</td>\n",
              "      <td>50708.000000</td>\n",
              "      <td>109.000000</td>\n",
              "      <td>98.000000</td>\n",
              "      <td>329664.000000</td>\n",
              "      <td>3.008750e+06</td>\n",
              "      <td>58.000000</td>\n",
              "      <td>98.000000</td>\n",
              "      <td>54.000000</td>\n",
              "      <td>98.000000</td>\n",
              "      <td>20.000000</td>\n",
              "    </tr>\n",
              "  </tbody>\n",
              "</table>\n",
              "</div>\n",
              "      <button class=\"colab-df-convert\" onclick=\"convertToInteractive('df-2e7cb379-3cc2-4da7-a45d-7b512f022586')\"\n",
              "              title=\"Convert this dataframe to an interactive table.\"\n",
              "              style=\"display:none;\">\n",
              "        \n",
              "  <svg xmlns=\"http://www.w3.org/2000/svg\" height=\"24px\"viewBox=\"0 0 24 24\"\n",
              "       width=\"24px\">\n",
              "    <path d=\"M0 0h24v24H0V0z\" fill=\"none\"/>\n",
              "    <path d=\"M18.56 5.44l.94 2.06.94-2.06 2.06-.94-2.06-.94-.94-2.06-.94 2.06-2.06.94zm-11 1L8.5 8.5l.94-2.06 2.06-.94-2.06-.94L8.5 2.5l-.94 2.06-2.06.94zm10 10l.94 2.06.94-2.06 2.06-.94-2.06-.94-.94-2.06-.94 2.06-2.06.94z\"/><path d=\"M17.41 7.96l-1.37-1.37c-.4-.4-.92-.59-1.43-.59-.52 0-1.04.2-1.43.59L10.3 9.45l-7.72 7.72c-.78.78-.78 2.05 0 2.83L4 21.41c.39.39.9.59 1.41.59.51 0 1.02-.2 1.41-.59l7.78-7.78 2.81-2.81c.8-.78.8-2.07 0-2.86zM5.41 20L4 18.59l7.72-7.72 1.47 1.35L5.41 20z\"/>\n",
              "  </svg>\n",
              "      </button>\n",
              "      \n",
              "  <style>\n",
              "    .colab-df-container {\n",
              "      display:flex;\n",
              "      flex-wrap:wrap;\n",
              "      gap: 12px;\n",
              "    }\n",
              "\n",
              "    .colab-df-convert {\n",
              "      background-color: #E8F0FE;\n",
              "      border: none;\n",
              "      border-radius: 50%;\n",
              "      cursor: pointer;\n",
              "      display: none;\n",
              "      fill: #1967D2;\n",
              "      height: 32px;\n",
              "      padding: 0 0 0 0;\n",
              "      width: 32px;\n",
              "    }\n",
              "\n",
              "    .colab-df-convert:hover {\n",
              "      background-color: #E2EBFA;\n",
              "      box-shadow: 0px 1px 2px rgba(60, 64, 67, 0.3), 0px 1px 3px 1px rgba(60, 64, 67, 0.15);\n",
              "      fill: #174EA6;\n",
              "    }\n",
              "\n",
              "    [theme=dark] .colab-df-convert {\n",
              "      background-color: #3B4455;\n",
              "      fill: #D2E3FC;\n",
              "    }\n",
              "\n",
              "    [theme=dark] .colab-df-convert:hover {\n",
              "      background-color: #434B5C;\n",
              "      box-shadow: 0px 1px 3px 1px rgba(0, 0, 0, 0.15);\n",
              "      filter: drop-shadow(0px 1px 2px rgba(0, 0, 0, 0.3));\n",
              "      fill: #FFFFFF;\n",
              "    }\n",
              "  </style>\n",
              "\n",
              "      <script>\n",
              "        const buttonEl =\n",
              "          document.querySelector('#df-2e7cb379-3cc2-4da7-a45d-7b512f022586 button.colab-df-convert');\n",
              "        buttonEl.style.display =\n",
              "          google.colab.kernel.accessAllowed ? 'block' : 'none';\n",
              "\n",
              "        async function convertToInteractive(key) {\n",
              "          const element = document.querySelector('#df-2e7cb379-3cc2-4da7-a45d-7b512f022586');\n",
              "          const dataTable =\n",
              "            await google.colab.kernel.invokeFunction('convertToInteractive',\n",
              "                                                     [key], {});\n",
              "          if (!dataTable) return;\n",
              "\n",
              "          const docLinkHtml = 'Like what you see? Visit the ' +\n",
              "            '<a target=\"_blank\" href=https://colab.research.google.com/notebooks/data_table.ipynb>data table notebook</a>'\n",
              "            + ' to learn more about interactive tables.';\n",
              "          element.innerHTML = '';\n",
              "          dataTable['output_type'] = 'display_data';\n",
              "          await google.colab.output.renderOutput(dataTable, element);\n",
              "          const docLink = document.createElement('div');\n",
              "          docLink.innerHTML = docLinkHtml;\n",
              "          element.appendChild(docLink);\n",
              "        }\n",
              "      </script>\n",
              "    </div>\n",
              "  </div>\n",
              "  "
            ],
            "text/plain": [
              "          Unnamed: 0  ...  NumberOfDependents\n",
              "count  149992.000000  ...       146068.000000\n",
              "mean    75004.500000  ...            0.757236\n",
              "std     43299.105125  ...            1.115103\n",
              "min         9.000000  ...            0.000000\n",
              "25%     37506.750000  ...            0.000000\n",
              "50%     75004.500000  ...            0.000000\n",
              "75%    112502.250000  ...            1.000000\n",
              "max    150000.000000  ...           20.000000\n",
              "\n",
              "[8 rows x 12 columns]"
            ]
          },
          "metadata": {},
          "execution_count": 4
        }
      ]
    },
    {
      "cell_type": "code",
      "source": [
        "# kiểm tra dữ liệu khuyết thiếu\n",
        "df.isna()"
      ],
      "metadata": {
        "colab": {
          "base_uri": "https://localhost:8080/",
          "height": 505
        },
        "id": "gap83A3wAyEH",
        "outputId": "e18d88a6-b0c5-4cfc-86a4-a263896803ba"
      },
      "execution_count": 5,
      "outputs": [
        {
          "output_type": "execute_result",
          "data": {
            "text/html": [
              "\n",
              "  <div id=\"df-016603a7-5efa-4025-9e74-c292b878de1d\">\n",
              "    <div class=\"colab-df-container\">\n",
              "      <div>\n",
              "<style scoped>\n",
              "    .dataframe tbody tr th:only-of-type {\n",
              "        vertical-align: middle;\n",
              "    }\n",
              "\n",
              "    .dataframe tbody tr th {\n",
              "        vertical-align: top;\n",
              "    }\n",
              "\n",
              "    .dataframe thead th {\n",
              "        text-align: right;\n",
              "    }\n",
              "</style>\n",
              "<table border=\"1\" class=\"dataframe\">\n",
              "  <thead>\n",
              "    <tr style=\"text-align: right;\">\n",
              "      <th></th>\n",
              "      <th>Unnamed: 0</th>\n",
              "      <th>SeriousDlqin2yrs</th>\n",
              "      <th>RevolvingUtilizationOfUnsecuredLines</th>\n",
              "      <th>age</th>\n",
              "      <th>NumberOfTime30-59DaysPastDueNotWorse</th>\n",
              "      <th>DebtRatio</th>\n",
              "      <th>MonthlyIncome</th>\n",
              "      <th>NumberOfOpenCreditLinesAndLoans</th>\n",
              "      <th>NumberOfTimes90DaysLate</th>\n",
              "      <th>NumberRealEstateLoansOrLines</th>\n",
              "      <th>NumberOfTime60-89DaysPastDueNotWorse</th>\n",
              "      <th>NumberOfDependents</th>\n",
              "    </tr>\n",
              "  </thead>\n",
              "  <tbody>\n",
              "    <tr>\n",
              "      <th>0</th>\n",
              "      <td>False</td>\n",
              "      <td>False</td>\n",
              "      <td>False</td>\n",
              "      <td>False</td>\n",
              "      <td>False</td>\n",
              "      <td>False</td>\n",
              "      <td>True</td>\n",
              "      <td>False</td>\n",
              "      <td>False</td>\n",
              "      <td>False</td>\n",
              "      <td>False</td>\n",
              "      <td>True</td>\n",
              "    </tr>\n",
              "    <tr>\n",
              "      <th>1</th>\n",
              "      <td>False</td>\n",
              "      <td>False</td>\n",
              "      <td>False</td>\n",
              "      <td>False</td>\n",
              "      <td>False</td>\n",
              "      <td>False</td>\n",
              "      <td>False</td>\n",
              "      <td>False</td>\n",
              "      <td>False</td>\n",
              "      <td>False</td>\n",
              "      <td>False</td>\n",
              "      <td>False</td>\n",
              "    </tr>\n",
              "    <tr>\n",
              "      <th>2</th>\n",
              "      <td>False</td>\n",
              "      <td>False</td>\n",
              "      <td>False</td>\n",
              "      <td>False</td>\n",
              "      <td>False</td>\n",
              "      <td>False</td>\n",
              "      <td>False</td>\n",
              "      <td>False</td>\n",
              "      <td>False</td>\n",
              "      <td>False</td>\n",
              "      <td>False</td>\n",
              "      <td>False</td>\n",
              "    </tr>\n",
              "    <tr>\n",
              "      <th>3</th>\n",
              "      <td>False</td>\n",
              "      <td>False</td>\n",
              "      <td>False</td>\n",
              "      <td>False</td>\n",
              "      <td>False</td>\n",
              "      <td>False</td>\n",
              "      <td>False</td>\n",
              "      <td>False</td>\n",
              "      <td>False</td>\n",
              "      <td>False</td>\n",
              "      <td>False</td>\n",
              "      <td>False</td>\n",
              "    </tr>\n",
              "    <tr>\n",
              "      <th>4</th>\n",
              "      <td>False</td>\n",
              "      <td>False</td>\n",
              "      <td>False</td>\n",
              "      <td>False</td>\n",
              "      <td>False</td>\n",
              "      <td>False</td>\n",
              "      <td>False</td>\n",
              "      <td>False</td>\n",
              "      <td>False</td>\n",
              "      <td>False</td>\n",
              "      <td>False</td>\n",
              "      <td>False</td>\n",
              "    </tr>\n",
              "    <tr>\n",
              "      <th>...</th>\n",
              "      <td>...</td>\n",
              "      <td>...</td>\n",
              "      <td>...</td>\n",
              "      <td>...</td>\n",
              "      <td>...</td>\n",
              "      <td>...</td>\n",
              "      <td>...</td>\n",
              "      <td>...</td>\n",
              "      <td>...</td>\n",
              "      <td>...</td>\n",
              "      <td>...</td>\n",
              "      <td>...</td>\n",
              "    </tr>\n",
              "    <tr>\n",
              "      <th>149987</th>\n",
              "      <td>False</td>\n",
              "      <td>False</td>\n",
              "      <td>False</td>\n",
              "      <td>False</td>\n",
              "      <td>False</td>\n",
              "      <td>False</td>\n",
              "      <td>False</td>\n",
              "      <td>False</td>\n",
              "      <td>False</td>\n",
              "      <td>False</td>\n",
              "      <td>False</td>\n",
              "      <td>False</td>\n",
              "    </tr>\n",
              "    <tr>\n",
              "      <th>149988</th>\n",
              "      <td>False</td>\n",
              "      <td>False</td>\n",
              "      <td>False</td>\n",
              "      <td>False</td>\n",
              "      <td>False</td>\n",
              "      <td>False</td>\n",
              "      <td>False</td>\n",
              "      <td>False</td>\n",
              "      <td>False</td>\n",
              "      <td>False</td>\n",
              "      <td>False</td>\n",
              "      <td>False</td>\n",
              "    </tr>\n",
              "    <tr>\n",
              "      <th>149989</th>\n",
              "      <td>False</td>\n",
              "      <td>False</td>\n",
              "      <td>False</td>\n",
              "      <td>False</td>\n",
              "      <td>False</td>\n",
              "      <td>False</td>\n",
              "      <td>True</td>\n",
              "      <td>False</td>\n",
              "      <td>False</td>\n",
              "      <td>False</td>\n",
              "      <td>False</td>\n",
              "      <td>False</td>\n",
              "    </tr>\n",
              "    <tr>\n",
              "      <th>149990</th>\n",
              "      <td>False</td>\n",
              "      <td>False</td>\n",
              "      <td>False</td>\n",
              "      <td>False</td>\n",
              "      <td>False</td>\n",
              "      <td>False</td>\n",
              "      <td>False</td>\n",
              "      <td>False</td>\n",
              "      <td>False</td>\n",
              "      <td>False</td>\n",
              "      <td>False</td>\n",
              "      <td>False</td>\n",
              "    </tr>\n",
              "    <tr>\n",
              "      <th>149991</th>\n",
              "      <td>False</td>\n",
              "      <td>False</td>\n",
              "      <td>False</td>\n",
              "      <td>False</td>\n",
              "      <td>False</td>\n",
              "      <td>False</td>\n",
              "      <td>False</td>\n",
              "      <td>False</td>\n",
              "      <td>False</td>\n",
              "      <td>False</td>\n",
              "      <td>False</td>\n",
              "      <td>False</td>\n",
              "    </tr>\n",
              "  </tbody>\n",
              "</table>\n",
              "<p>149992 rows × 12 columns</p>\n",
              "</div>\n",
              "      <button class=\"colab-df-convert\" onclick=\"convertToInteractive('df-016603a7-5efa-4025-9e74-c292b878de1d')\"\n",
              "              title=\"Convert this dataframe to an interactive table.\"\n",
              "              style=\"display:none;\">\n",
              "        \n",
              "  <svg xmlns=\"http://www.w3.org/2000/svg\" height=\"24px\"viewBox=\"0 0 24 24\"\n",
              "       width=\"24px\">\n",
              "    <path d=\"M0 0h24v24H0V0z\" fill=\"none\"/>\n",
              "    <path d=\"M18.56 5.44l.94 2.06.94-2.06 2.06-.94-2.06-.94-.94-2.06-.94 2.06-2.06.94zm-11 1L8.5 8.5l.94-2.06 2.06-.94-2.06-.94L8.5 2.5l-.94 2.06-2.06.94zm10 10l.94 2.06.94-2.06 2.06-.94-2.06-.94-.94-2.06-.94 2.06-2.06.94z\"/><path d=\"M17.41 7.96l-1.37-1.37c-.4-.4-.92-.59-1.43-.59-.52 0-1.04.2-1.43.59L10.3 9.45l-7.72 7.72c-.78.78-.78 2.05 0 2.83L4 21.41c.39.39.9.59 1.41.59.51 0 1.02-.2 1.41-.59l7.78-7.78 2.81-2.81c.8-.78.8-2.07 0-2.86zM5.41 20L4 18.59l7.72-7.72 1.47 1.35L5.41 20z\"/>\n",
              "  </svg>\n",
              "      </button>\n",
              "      \n",
              "  <style>\n",
              "    .colab-df-container {\n",
              "      display:flex;\n",
              "      flex-wrap:wrap;\n",
              "      gap: 12px;\n",
              "    }\n",
              "\n",
              "    .colab-df-convert {\n",
              "      background-color: #E8F0FE;\n",
              "      border: none;\n",
              "      border-radius: 50%;\n",
              "      cursor: pointer;\n",
              "      display: none;\n",
              "      fill: #1967D2;\n",
              "      height: 32px;\n",
              "      padding: 0 0 0 0;\n",
              "      width: 32px;\n",
              "    }\n",
              "\n",
              "    .colab-df-convert:hover {\n",
              "      background-color: #E2EBFA;\n",
              "      box-shadow: 0px 1px 2px rgba(60, 64, 67, 0.3), 0px 1px 3px 1px rgba(60, 64, 67, 0.15);\n",
              "      fill: #174EA6;\n",
              "    }\n",
              "\n",
              "    [theme=dark] .colab-df-convert {\n",
              "      background-color: #3B4455;\n",
              "      fill: #D2E3FC;\n",
              "    }\n",
              "\n",
              "    [theme=dark] .colab-df-convert:hover {\n",
              "      background-color: #434B5C;\n",
              "      box-shadow: 0px 1px 3px 1px rgba(0, 0, 0, 0.15);\n",
              "      filter: drop-shadow(0px 1px 2px rgba(0, 0, 0, 0.3));\n",
              "      fill: #FFFFFF;\n",
              "    }\n",
              "  </style>\n",
              "\n",
              "      <script>\n",
              "        const buttonEl =\n",
              "          document.querySelector('#df-016603a7-5efa-4025-9e74-c292b878de1d button.colab-df-convert');\n",
              "        buttonEl.style.display =\n",
              "          google.colab.kernel.accessAllowed ? 'block' : 'none';\n",
              "\n",
              "        async function convertToInteractive(key) {\n",
              "          const element = document.querySelector('#df-016603a7-5efa-4025-9e74-c292b878de1d');\n",
              "          const dataTable =\n",
              "            await google.colab.kernel.invokeFunction('convertToInteractive',\n",
              "                                                     [key], {});\n",
              "          if (!dataTable) return;\n",
              "\n",
              "          const docLinkHtml = 'Like what you see? Visit the ' +\n",
              "            '<a target=\"_blank\" href=https://colab.research.google.com/notebooks/data_table.ipynb>data table notebook</a>'\n",
              "            + ' to learn more about interactive tables.';\n",
              "          element.innerHTML = '';\n",
              "          dataTable['output_type'] = 'display_data';\n",
              "          await google.colab.output.renderOutput(dataTable, element);\n",
              "          const docLink = document.createElement('div');\n",
              "          docLink.innerHTML = docLinkHtml;\n",
              "          element.appendChild(docLink);\n",
              "        }\n",
              "      </script>\n",
              "    </div>\n",
              "  </div>\n",
              "  "
            ],
            "text/plain": [
              "        Unnamed: 0  ...  NumberOfDependents\n",
              "0            False  ...                True\n",
              "1            False  ...               False\n",
              "2            False  ...               False\n",
              "3            False  ...               False\n",
              "4            False  ...               False\n",
              "...            ...  ...                 ...\n",
              "149987       False  ...               False\n",
              "149988       False  ...               False\n",
              "149989       False  ...               False\n",
              "149990       False  ...               False\n",
              "149991       False  ...               False\n",
              "\n",
              "[149992 rows x 12 columns]"
            ]
          },
          "metadata": {},
          "execution_count": 5
        }
      ]
    },
    {
      "cell_type": "code",
      "source": [
        "# loại bỏ dữ liệu khuyết thiếu\n",
        "df1 = df.dropna()"
      ],
      "metadata": {
        "id": "YdUFcfMeAzff"
      },
      "execution_count": 6,
      "outputs": []
    },
    {
      "cell_type": "code",
      "source": [
        "# % số lượng bản ghi còn lại\n",
        "df1.shape[0]/df.shape[0] * 100"
      ],
      "metadata": {
        "colab": {
          "base_uri": "https://localhost:8080/"
        },
        "id": "aotexoOVA1JB",
        "outputId": "03fda7cb-8ca7-4e14-b13d-8beb8f7d9186"
      },
      "execution_count": 8,
      "outputs": [
        {
          "output_type": "execute_result",
          "data": {
            "text/plain": [
              "80.17894287695344"
            ]
          },
          "metadata": {},
          "execution_count": 8
        }
      ]
    },
    {
      "cell_type": "code",
      "source": [
        "# vẽ biểu đồ phân bố\n",
        "sns.kdeplot(data=df1[\"MonthlyIncome\"])"
      ],
      "metadata": {
        "colab": {
          "base_uri": "https://localhost:8080/",
          "height": 307
        },
        "id": "JWutdfajA49x",
        "outputId": "9bad9cb1-0410-4bf3-f31f-88956437ddbd"
      },
      "execution_count": 9,
      "outputs": [
        {
          "output_type": "execute_result",
          "data": {
            "text/plain": [
              "<matplotlib.axes._subplots.AxesSubplot at 0x7fd85312de90>"
            ]
          },
          "metadata": {},
          "execution_count": 9
        },
        {
          "output_type": "display_data",
          "data": {
            "image/png": "[encoded data removed]",
            "text/plain": [
              "<Figure size 432x288 with 1 Axes>"
            ]
          },
          "metadata": {
            "needs_background": "light"
          }
        }
      ]
    },
    {
      "cell_type": "code",
      "source": [
        "# thay thế dữ liệu khuyết thiếu bởi giá trị nội suy theo cột\n",
        "df2 = df.interpolate(axis=1)"
      ],
      "metadata": {
        "id": "GtT1naFRA_AQ"
      },
      "execution_count": 10,
      "outputs": []
    },
    {
      "cell_type": "code",
      "source": [
        "df2.isna()"
      ],
      "metadata": {
        "colab": {
          "base_uri": "https://localhost:8080/",
          "height": 505
        },
        "id": "RtAeo0N5BAZ9",
        "outputId": "ff67382b-1c78-4b76-955e-7872802df984"
      },
      "execution_count": 11,
      "outputs": [
        {
          "output_type": "execute_result",
          "data": {
            "text/html": [
              "\n",
              "  <div id=\"df-db40a611-1390-4031-a4ff-059e332f0724\">\n",
              "    <div class=\"colab-df-container\">\n",
              "      <div>\n",
              "<style scoped>\n",
              "    .dataframe tbody tr th:only-of-type {\n",
              "        vertical-align: middle;\n",
              "    }\n",
              "\n",
              "    .dataframe tbody tr th {\n",
              "        vertical-align: top;\n",
              "    }\n",
              "\n",
              "    .dataframe thead th {\n",
              "        text-align: right;\n",
              "    }\n",
              "</style>\n",
              "<table border=\"1\" class=\"dataframe\">\n",
              "  <thead>\n",
              "    <tr style=\"text-align: right;\">\n",
              "      <th></th>\n",
              "      <th>Unnamed: 0</th>\n",
              "      <th>SeriousDlqin2yrs</th>\n",
              "      <th>RevolvingUtilizationOfUnsecuredLines</th>\n",
              "      <th>age</th>\n",
              "      <th>NumberOfTime30-59DaysPastDueNotWorse</th>\n",
              "      <th>DebtRatio</th>\n",
              "      <th>MonthlyIncome</th>\n",
              "      <th>NumberOfOpenCreditLinesAndLoans</th>\n",
              "      <th>NumberOfTimes90DaysLate</th>\n",
              "      <th>NumberRealEstateLoansOrLines</th>\n",
              "      <th>NumberOfTime60-89DaysPastDueNotWorse</th>\n",
              "      <th>NumberOfDependents</th>\n",
              "    </tr>\n",
              "  </thead>\n",
              "  <tbody>\n",
              "    <tr>\n",
              "      <th>0</th>\n",
              "      <td>False</td>\n",
              "      <td>False</td>\n",
              "      <td>False</td>\n",
              "      <td>False</td>\n",
              "      <td>False</td>\n",
              "      <td>False</td>\n",
              "      <td>False</td>\n",
              "      <td>False</td>\n",
              "      <td>False</td>\n",
              "      <td>False</td>\n",
              "      <td>False</td>\n",
              "      <td>False</td>\n",
              "    </tr>\n",
              "    <tr>\n",
              "      <th>1</th>\n",
              "      <td>False</td>\n",
              "      <td>False</td>\n",
              "      <td>False</td>\n",
              "      <td>False</td>\n",
              "      <td>False</td>\n",
              "      <td>False</td>\n",
              "      <td>False</td>\n",
              "      <td>False</td>\n",
              "      <td>False</td>\n",
              "      <td>False</td>\n",
              "      <td>False</td>\n",
              "      <td>False</td>\n",
              "    </tr>\n",
              "    <tr>\n",
              "      <th>2</th>\n",
              "      <td>False</td>\n",
              "      <td>False</td>\n",
              "      <td>False</td>\n",
              "      <td>False</td>\n",
              "      <td>False</td>\n",
              "      <td>False</td>\n",
              "      <td>False</td>\n",
              "      <td>False</td>\n",
              "      <td>False</td>\n",
              "      <td>False</td>\n",
              "      <td>False</td>\n",
              "      <td>False</td>\n",
              "    </tr>\n",
              "    <tr>\n",
              "      <th>3</th>\n",
              "      <td>False</td>\n",
              "      <td>False</td>\n",
              "      <td>False</td>\n",
              "      <td>False</td>\n",
              "      <td>False</td>\n",
              "      <td>False</td>\n",
              "      <td>False</td>\n",
              "      <td>False</td>\n",
              "      <td>False</td>\n",
              "      <td>False</td>\n",
              "      <td>False</td>\n",
              "      <td>False</td>\n",
              "    </tr>\n",
              "    <tr>\n",
              "      <th>4</th>\n",
              "      <td>False</td>\n",
              "      <td>False</td>\n",
              "      <td>False</td>\n",
              "      <td>False</td>\n",
              "      <td>False</td>\n",
              "      <td>False</td>\n",
              "      <td>False</td>\n",
              "      <td>False</td>\n",
              "      <td>False</td>\n",
              "      <td>False</td>\n",
              "      <td>False</td>\n",
              "      <td>False</td>\n",
              "    </tr>\n",
              "    <tr>\n",
              "      <th>...</th>\n",
              "      <td>...</td>\n",
              "      <td>...</td>\n",
              "      <td>...</td>\n",
              "      <td>...</td>\n",
              "      <td>...</td>\n",
              "      <td>...</td>\n",
              "      <td>...</td>\n",
              "      <td>...</td>\n",
              "      <td>...</td>\n",
              "      <td>...</td>\n",
              "      <td>...</td>\n",
              "      <td>...</td>\n",
              "    </tr>\n",
              "    <tr>\n",
              "      <th>149987</th>\n",
              "      <td>False</td>\n",
              "      <td>False</td>\n",
              "      <td>False</td>\n",
              "      <td>False</td>\n",
              "      <td>False</td>\n",
              "      <td>False</td>\n",
              "      <td>False</td>\n",
              "      <td>False</td>\n",
              "      <td>False</td>\n",
              "      <td>False</td>\n",
              "      <td>False</td>\n",
              "      <td>False</td>\n",
              "    </tr>\n",
              "    <tr>\n",
              "      <th>149988</th>\n",
              "      <td>False</td>\n",
              "      <td>False</td>\n",
              "      <td>False</td>\n",
              "      <td>False</td>\n",
              "      <td>False</td>\n",
              "      <td>False</td>\n",
              "      <td>False</td>\n",
              "      <td>False</td>\n",
              "      <td>False</td>\n",
              "      <td>False</td>\n",
              "      <td>False</td>\n",
              "      <td>False</td>\n",
              "    </tr>\n",
              "    <tr>\n",
              "      <th>149989</th>\n",
              "      <td>False</td>\n",
              "      <td>False</td>\n",
              "      <td>False</td>\n",
              "      <td>False</td>\n",
              "      <td>False</td>\n",
              "      <td>False</td>\n",
              "      <td>False</td>\n",
              "      <td>False</td>\n",
              "      <td>False</td>\n",
              "      <td>False</td>\n",
              "      <td>False</td>\n",
              "      <td>False</td>\n",
              "    </tr>\n",
              "    <tr>\n",
              "      <th>149990</th>\n",
              "      <td>False</td>\n",
              "      <td>False</td>\n",
              "      <td>False</td>\n",
              "      <td>False</td>\n",
              "      <td>False</td>\n",
              "      <td>False</td>\n",
              "      <td>False</td>\n",
              "      <td>False</td>\n",
              "      <td>False</td>\n",
              "      <td>False</td>\n",
              "      <td>False</td>\n",
              "      <td>False</td>\n",
              "    </tr>\n",
              "    <tr>\n",
              "      <th>149991</th>\n",
              "      <td>False</td>\n",
              "      <td>False</td>\n",
              "      <td>False</td>\n",
              "      <td>False</td>\n",
              "      <td>False</td>\n",
              "      <td>False</td>\n",
              "      <td>False</td>\n",
              "      <td>False</td>\n",
              "      <td>False</td>\n",
              "      <td>False</td>\n",
              "      <td>False</td>\n",
              "      <td>False</td>\n",
              "    </tr>\n",
              "  </tbody>\n",
              "</table>\n",
              "<p>149992 rows × 12 columns</p>\n",
              "</div>\n",
              "      <button class=\"colab-df-convert\" onclick=\"convertToInteractive('df-db40a611-1390-4031-a4ff-059e332f0724')\"\n",
              "              title=\"Convert this dataframe to an interactive table.\"\n",
              "              style=\"display:none;\">\n",
              "        \n",
              "  <svg xmlns=\"http://www.w3.org/2000/svg\" height=\"24px\"viewBox=\"0 0 24 24\"\n",
              "       width=\"24px\">\n",
              "    <path d=\"M0 0h24v24H0V0z\" fill=\"none\"/>\n",
              "    <path d=\"M18.56 5.44l.94 2.06.94-2.06 2.06-.94-2.06-.94-.94-2.06-.94 2.06-2.06.94zm-11 1L8.5 8.5l.94-2.06 2.06-.94-2.06-.94L8.5 2.5l-.94 2.06-2.06.94zm10 10l.94 2.06.94-2.06 2.06-.94-2.06-.94-.94-2.06-.94 2.06-2.06.94z\"/><path d=\"M17.41 7.96l-1.37-1.37c-.4-.4-.92-.59-1.43-.59-.52 0-1.04.2-1.43.59L10.3 9.45l-7.72 7.72c-.78.78-.78 2.05 0 2.83L4 21.41c.39.39.9.59 1.41.59.51 0 1.02-.2 1.41-.59l7.78-7.78 2.81-2.81c.8-.78.8-2.07 0-2.86zM5.41 20L4 18.59l7.72-7.72 1.47 1.35L5.41 20z\"/>\n",
              "  </svg>\n",
              "      </button>\n",
              "      \n",
              "  <style>\n",
              "    .colab-df-container {\n",
              "      display:flex;\n",
              "      flex-wrap:wrap;\n",
              "      gap: 12px;\n",
              "    }\n",
              "\n",
              "    .colab-df-convert {\n",
              "      background-color: #E8F0FE;\n",
              "      border: none;\n",
              "      border-radius: 50%;\n",
              "      cursor: pointer;\n",
              "      display: none;\n",
              "      fill: #1967D2;\n",
              "      height: 32px;\n",
              "      padding: 0 0 0 0;\n",
              "      width: 32px;\n",
              "    }\n",
              "\n",
              "    .colab-df-convert:hover {\n",
              "      background-color: #E2EBFA;\n",
              "      box-shadow: 0px 1px 2px rgba(60, 64, 67, 0.3), 0px 1px 3px 1px rgba(60, 64, 67, 0.15);\n",
              "      fill: #174EA6;\n",
              "    }\n",
              "\n",
              "    [theme=dark] .colab-df-convert {\n",
              "      background-color: #3B4455;\n",
              "      fill: #D2E3FC;\n",
              "    }\n",
              "\n",
              "    [theme=dark] .colab-df-convert:hover {\n",
              "      background-color: #434B5C;\n",
              "      box-shadow: 0px 1px 3px 1px rgba(0, 0, 0, 0.15);\n",
              "      filter: drop-shadow(0px 1px 2px rgba(0, 0, 0, 0.3));\n",
              "      fill: #FFFFFF;\n",
              "    }\n",
              "  </style>\n",
              "\n",
              "      <script>\n",
              "        const buttonEl =\n",
              "          document.querySelector('#df-db40a611-1390-4031-a4ff-059e332f0724 button.colab-df-convert');\n",
              "        buttonEl.style.display =\n",
              "          google.colab.kernel.accessAllowed ? 'block' : 'none';\n",
              "\n",
              "        async function convertToInteractive(key) {\n",
              "          const element = document.querySelector('#df-db40a611-1390-4031-a4ff-059e332f0724');\n",
              "          const dataTable =\n",
              "            await google.colab.kernel.invokeFunction('convertToInteractive',\n",
              "                                                     [key], {});\n",
              "          if (!dataTable) return;\n",
              "\n",
              "          const docLinkHtml = 'Like what you see? Visit the ' +\n",
              "            '<a target=\"_blank\" href=https://colab.research.google.com/notebooks/data_table.ipynb>data table notebook</a>'\n",
              "            + ' to learn more about interactive tables.';\n",
              "          element.innerHTML = '';\n",
              "          dataTable['output_type'] = 'display_data';\n",
              "          await google.colab.output.renderOutput(dataTable, element);\n",
              "          const docLink = document.createElement('div');\n",
              "          docLink.innerHTML = docLinkHtml;\n",
              "          element.appendChild(docLink);\n",
              "        }\n",
              "      </script>\n",
              "    </div>\n",
              "  </div>\n",
              "  "
            ],
            "text/plain": [
              "        Unnamed: 0  ...  NumberOfDependents\n",
              "0            False  ...               False\n",
              "1            False  ...               False\n",
              "2            False  ...               False\n",
              "3            False  ...               False\n",
              "4            False  ...               False\n",
              "...            ...  ...                 ...\n",
              "149987       False  ...               False\n",
              "149988       False  ...               False\n",
              "149989       False  ...               False\n",
              "149990       False  ...               False\n",
              "149991       False  ...               False\n",
              "\n",
              "[149992 rows x 12 columns]"
            ]
          },
          "metadata": {},
          "execution_count": 11
        }
      ]
    },
    {
      "cell_type": "markdown",
      "source": [
        "Xử lý dữ liệu ngoại lai"
      ],
      "metadata": {
        "id": "ttbKeBWvBFIa"
      }
    },
    {
      "cell_type": "code",
      "source": [
        "# vẽ biểu đồ boxplot cho các đặc trưng\n",
        "df2.boxplot()"
      ],
      "metadata": {
        "colab": {
          "base_uri": "https://localhost:8080/",
          "height": 294
        },
        "id": "bWld_XhSBCfG",
        "outputId": "c5a0ca10-0467-4f10-81f9-ea6b1b4e0467"
      },
      "execution_count": 12,
      "outputs": [
        {
          "output_type": "execute_result",
          "data": {
            "text/plain": [
              "<matplotlib.axes._subplots.AxesSubplot at 0x7fd852940bd0>"
            ]
          },
          "metadata": {},
          "execution_count": 12
        },
        {
          "output_type": "display_data",
          "data": {
            "image/png": "[encoded data removed]",
            "text/plain": [
              "<Figure size 432x288 with 1 Axes>"
            ]
          },
          "metadata": {
            "needs_background": "light"
          }
        }
      ]
    },
    {
      "cell_type": "code",
      "source": [
        "# vẽ biểu đồ box plot cho MonthlyIncome\n",
        "sns.boxplot(df2[\"MonthlyIncome\"])"
      ],
      "metadata": {
        "colab": {
          "base_uri": "https://localhost:8080/",
          "height": 351
        },
        "id": "VE1jUufUBHxz",
        "outputId": "0dc97818-744c-440c-b61e-1e1263b7f90e"
      },
      "execution_count": 13,
      "outputs": [
        {
          "output_type": "stream",
          "name": "stderr",
          "text": [
            "/usr/local/lib/python3.7/dist-packages/seaborn/_decorators.py:43: FutureWarning: Pass the following variable as a keyword arg: x. From version 0.12, the only valid positional argument will be `data`, and passing other arguments without an explicit keyword will result in an error or misinterpretation.\n",
            "  FutureWarning\n"
          ]
        },
        {
          "output_type": "execute_result",
          "data": {
            "text/plain": [
              "<matplotlib.axes._subplots.AxesSubplot at 0x7fd84ad93590>"
            ]
          },
          "metadata": {},
          "execution_count": 13
        },
        {
          "output_type": "display_data",
          "data": {
            "image/png": "[encoded data removed]",
            "text/plain": [
              "<Figure size 432x288 with 1 Axes>"
            ]
          },
          "metadata": {
            "needs_background": "light"
          }
        }
      ]
    },
    {
      "cell_type": "code",
      "source": [
        "# tính giá trị Q1 và Q3\n",
        "Q1 = df2.quantile(0.25)\n",
        "Q3 = df2.quantile(0.75)"
      ],
      "metadata": {
        "id": "oR_L15WQBMkp"
      },
      "execution_count": 14,
      "outputs": []
    },
    {
      "cell_type": "code",
      "source": [
        "# tính IQR \n",
        "IQR = Q3-Q1"
      ],
      "metadata": {
        "id": "LS27P4uNBRia"
      },
      "execution_count": 15,
      "outputs": []
    },
    {
      "cell_type": "code",
      "source": [
        "# lọc dữ liệu ngoại lai\n",
        "df3 = df2[~((df2 < (Q1 - 1.5 * IQR)) | (df2 > (Q3 + 1.5 * IQR))).any(axis=1)]"
      ],
      "metadata": {
        "id": "smsNcl-YBS1L"
      },
      "execution_count": 16,
      "outputs": []
    },
    {
      "cell_type": "code",
      "source": [
        "df3.boxplot()"
      ],
      "metadata": {
        "colab": {
          "base_uri": "https://localhost:8080/",
          "height": 282
        },
        "id": "aeR0PhH4BUNN",
        "outputId": "977f39ce-03d0-40f2-b281-c4124d114bc9"
      },
      "execution_count": 17,
      "outputs": [
        {
          "output_type": "execute_result",
          "data": {
            "text/plain": [
              "<matplotlib.axes._subplots.AxesSubplot at 0x7fd84d8f1290>"
            ]
          },
          "metadata": {},
          "execution_count": 17
        },
        {
          "output_type": "display_data",
          "data": {
            "image/png": "[encoded data removed]",
            "text/plain": [
              "<Figure size 432x288 with 1 Axes>"
            ]
          },
          "metadata": {
            "needs_background": "light"
          }
        }
      ]
    },
    {
      "cell_type": "code",
      "source": [
        "sns.boxplot(df3[\"MonthlyIncome\"])"
      ],
      "metadata": {
        "colab": {
          "base_uri": "https://localhost:8080/",
          "height": 351
        },
        "id": "9r3bYCdpBWQX",
        "outputId": "e8595c6a-8264-4db2-cfe4-16f88ddbc09c"
      },
      "execution_count": 18,
      "outputs": [
        {
          "output_type": "stream",
          "name": "stderr",
          "text": [
            "/usr/local/lib/python3.7/dist-packages/seaborn/_decorators.py:43: FutureWarning: Pass the following variable as a keyword arg: x. From version 0.12, the only valid positional argument will be `data`, and passing other arguments without an explicit keyword will result in an error or misinterpretation.\n",
            "  FutureWarning\n"
          ]
        },
        {
          "output_type": "execute_result",
          "data": {
            "text/plain": [
              "<matplotlib.axes._subplots.AxesSubplot at 0x7fd84d8e1d50>"
            ]
          },
          "metadata": {},
          "execution_count": 18
        },
        {
          "output_type": "display_data",
          "data": {
            "image/png": "[encoded data removed]",
            "text/plain": [
              "<Figure size 432x288 with 1 Axes>"
            ]
          },
          "metadata": {
            "needs_background": "light"
          }
        }
      ]
    },
    {
      "cell_type": "code",
      "source": [
        "df3.describe()"
      ],
      "metadata": {
        "colab": {
          "base_uri": "https://localhost:8080/",
          "height": 382
        },
        "id": "mwTpSLRmBZWL",
        "outputId": "b7f18d8a-e6d4-45bd-db39-7efa6a5ab629"
      },
      "execution_count": 19,
      "outputs": [
        {
          "output_type": "execute_result",
          "data": {
            "text/html": [
              "\n",
              "  <div id=\"df-f24f0ea0-5399-4da6-a7d2-07e2b44e0cc1\">\n",
              "    <div class=\"colab-df-container\">\n",
              "      <div>\n",
              "<style scoped>\n",
              "    .dataframe tbody tr th:only-of-type {\n",
              "        vertical-align: middle;\n",
              "    }\n",
              "\n",
              "    .dataframe tbody tr th {\n",
              "        vertical-align: top;\n",
              "    }\n",
              "\n",
              "    .dataframe thead th {\n",
              "        text-align: right;\n",
              "    }\n",
              "</style>\n",
              "<table border=\"1\" class=\"dataframe\">\n",
              "  <thead>\n",
              "    <tr style=\"text-align: right;\">\n",
              "      <th></th>\n",
              "      <th>Unnamed: 0</th>\n",
              "      <th>SeriousDlqin2yrs</th>\n",
              "      <th>RevolvingUtilizationOfUnsecuredLines</th>\n",
              "      <th>age</th>\n",
              "      <th>NumberOfTime30-59DaysPastDueNotWorse</th>\n",
              "      <th>DebtRatio</th>\n",
              "      <th>MonthlyIncome</th>\n",
              "      <th>NumberOfOpenCreditLinesAndLoans</th>\n",
              "      <th>NumberOfTimes90DaysLate</th>\n",
              "      <th>NumberRealEstateLoansOrLines</th>\n",
              "      <th>NumberOfTime60-89DaysPastDueNotWorse</th>\n",
              "      <th>NumberOfDependents</th>\n",
              "    </tr>\n",
              "  </thead>\n",
              "  <tbody>\n",
              "    <tr>\n",
              "      <th>count</th>\n",
              "      <td>76890.000000</td>\n",
              "      <td>76890.0</td>\n",
              "      <td>76890.000000</td>\n",
              "      <td>76890.000000</td>\n",
              "      <td>76890.0</td>\n",
              "      <td>76890.000000</td>\n",
              "      <td>76890.000000</td>\n",
              "      <td>76890.000000</td>\n",
              "      <td>76890.0</td>\n",
              "      <td>76890.000000</td>\n",
              "      <td>76890.0</td>\n",
              "      <td>76890.000000</td>\n",
              "    </tr>\n",
              "    <tr>\n",
              "      <th>mean</th>\n",
              "      <td>75092.319508</td>\n",
              "      <td>0.0</td>\n",
              "      <td>0.264318</td>\n",
              "      <td>52.929185</td>\n",
              "      <td>0.0</td>\n",
              "      <td>0.317611</td>\n",
              "      <td>5714.681226</td>\n",
              "      <td>8.049395</td>\n",
              "      <td>0.0</td>\n",
              "      <td>0.931552</td>\n",
              "      <td>0.0</td>\n",
              "      <td>0.518390</td>\n",
              "    </tr>\n",
              "    <tr>\n",
              "      <th>std</th>\n",
              "      <td>43259.698005</td>\n",
              "      <td>0.0</td>\n",
              "      <td>0.317195</td>\n",
              "      <td>15.385704</td>\n",
              "      <td>0.0</td>\n",
              "      <td>0.281695</td>\n",
              "      <td>3249.853682</td>\n",
              "      <td>4.299490</td>\n",
              "      <td>0.0</td>\n",
              "      <td>0.942512</td>\n",
              "      <td>0.0</td>\n",
              "      <td>0.743525</td>\n",
              "    </tr>\n",
              "    <tr>\n",
              "      <th>min</th>\n",
              "      <td>11.000000</td>\n",
              "      <td>0.0</td>\n",
              "      <td>0.000000</td>\n",
              "      <td>21.000000</td>\n",
              "      <td>0.0</td>\n",
              "      <td>0.000000</td>\n",
              "      <td>0.000000</td>\n",
              "      <td>0.000000</td>\n",
              "      <td>0.0</td>\n",
              "      <td>0.000000</td>\n",
              "      <td>0.0</td>\n",
              "      <td>0.000000</td>\n",
              "    </tr>\n",
              "    <tr>\n",
              "      <th>25%</th>\n",
              "      <td>37747.250000</td>\n",
              "      <td>0.0</td>\n",
              "      <td>0.023148</td>\n",
              "      <td>41.000000</td>\n",
              "      <td>0.0</td>\n",
              "      <td>0.111378</td>\n",
              "      <td>3312.000000</td>\n",
              "      <td>5.000000</td>\n",
              "      <td>0.0</td>\n",
              "      <td>0.000000</td>\n",
              "      <td>0.0</td>\n",
              "      <td>0.000000</td>\n",
              "    </tr>\n",
              "    <tr>\n",
              "      <th>50%</th>\n",
              "      <td>75268.500000</td>\n",
              "      <td>0.0</td>\n",
              "      <td>0.111537</td>\n",
              "      <td>53.000000</td>\n",
              "      <td>0.0</td>\n",
              "      <td>0.268449</td>\n",
              "      <td>5125.000000</td>\n",
              "      <td>7.000000</td>\n",
              "      <td>0.0</td>\n",
              "      <td>1.000000</td>\n",
              "      <td>0.0</td>\n",
              "      <td>0.000000</td>\n",
              "    </tr>\n",
              "    <tr>\n",
              "      <th>75%</th>\n",
              "      <td>112463.750000</td>\n",
              "      <td>0.0</td>\n",
              "      <td>0.417336</td>\n",
              "      <td>64.000000</td>\n",
              "      <td>0.0</td>\n",
              "      <td>0.443096</td>\n",
              "      <td>7705.750000</td>\n",
              "      <td>11.000000</td>\n",
              "      <td>0.0</td>\n",
              "      <td>2.000000</td>\n",
              "      <td>0.0</td>\n",
              "      <td>1.000000</td>\n",
              "    </tr>\n",
              "    <tr>\n",
              "      <th>max</th>\n",
              "      <td>150000.000000</td>\n",
              "      <td>0.0</td>\n",
              "      <td>1.341700</td>\n",
              "      <td>96.000000</td>\n",
              "      <td>0.0</td>\n",
              "      <td>1.908046</td>\n",
              "      <td>15605.000000</td>\n",
              "      <td>20.000000</td>\n",
              "      <td>0.0</td>\n",
              "      <td>5.000000</td>\n",
              "      <td>0.0</td>\n",
              "      <td>2.000000</td>\n",
              "    </tr>\n",
              "  </tbody>\n",
              "</table>\n",
              "</div>\n",
              "      <button class=\"colab-df-convert\" onclick=\"convertToInteractive('df-f24f0ea0-5399-4da6-a7d2-07e2b44e0cc1')\"\n",
              "              title=\"Convert this dataframe to an interactive table.\"\n",
              "              style=\"display:none;\">\n",
              "        \n",
              "  <svg xmlns=\"http://www.w3.org/2000/svg\" height=\"24px\"viewBox=\"0 0 24 24\"\n",
              "       width=\"24px\">\n",
              "    <path d=\"M0 0h24v24H0V0z\" fill=\"none\"/>\n",
              "    <path d=\"M18.56 5.44l.94 2.06.94-2.06 2.06-.94-2.06-.94-.94-2.06-.94 2.06-2.06.94zm-11 1L8.5 8.5l.94-2.06 2.06-.94-2.06-.94L8.5 2.5l-.94 2.06-2.06.94zm10 10l.94 2.06.94-2.06 2.06-.94-2.06-.94-.94-2.06-.94 2.06-2.06.94z\"/><path d=\"M17.41 7.96l-1.37-1.37c-.4-.4-.92-.59-1.43-.59-.52 0-1.04.2-1.43.59L10.3 9.45l-7.72 7.72c-.78.78-.78 2.05 0 2.83L4 21.41c.39.39.9.59 1.41.59.51 0 1.02-.2 1.41-.59l7.78-7.78 2.81-2.81c.8-.78.8-2.07 0-2.86zM5.41 20L4 18.59l7.72-7.72 1.47 1.35L5.41 20z\"/>\n",
              "  </svg>\n",
              "      </button>\n",
              "      \n",
              "  <style>\n",
              "    .colab-df-container {\n",
              "      display:flex;\n",
              "      flex-wrap:wrap;\n",
              "      gap: 12px;\n",
              "    }\n",
              "\n",
              "    .colab-df-convert {\n",
              "      background-color: #E8F0FE;\n",
              "      border: none;\n",
              "      border-radius: 50%;\n",
              "      cursor: pointer;\n",
              "      display: none;\n",
              "      fill: #1967D2;\n",
              "      height: 32px;\n",
              "      padding: 0 0 0 0;\n",
              "      width: 32px;\n",
              "    }\n",
              "\n",
              "    .colab-df-convert:hover {\n",
              "      background-color: #E2EBFA;\n",
              "      box-shadow: 0px 1px 2px rgba(60, 64, 67, 0.3), 0px 1px 3px 1px rgba(60, 64, 67, 0.15);\n",
              "      fill: #174EA6;\n",
              "    }\n",
              "\n",
              "    [theme=dark] .colab-df-convert {\n",
              "      background-color: #3B4455;\n",
              "      fill: #D2E3FC;\n",
              "    }\n",
              "\n",
              "    [theme=dark] .colab-df-convert:hover {\n",
              "      background-color: #434B5C;\n",
              "      box-shadow: 0px 1px 3px 1px rgba(0, 0, 0, 0.15);\n",
              "      filter: drop-shadow(0px 1px 2px rgba(0, 0, 0, 0.3));\n",
              "      fill: #FFFFFF;\n",
              "    }\n",
              "  </style>\n",
              "\n",
              "      <script>\n",
              "        const buttonEl =\n",
              "          document.querySelector('#df-f24f0ea0-5399-4da6-a7d2-07e2b44e0cc1 button.colab-df-convert');\n",
              "        buttonEl.style.display =\n",
              "          google.colab.kernel.accessAllowed ? 'block' : 'none';\n",
              "\n",
              "        async function convertToInteractive(key) {\n",
              "          const element = document.querySelector('#df-f24f0ea0-5399-4da6-a7d2-07e2b44e0cc1');\n",
              "          const dataTable =\n",
              "            await google.colab.kernel.invokeFunction('convertToInteractive',\n",
              "                                                     [key], {});\n",
              "          if (!dataTable) return;\n",
              "\n",
              "          const docLinkHtml = 'Like what you see? Visit the ' +\n",
              "            '<a target=\"_blank\" href=https://colab.research.google.com/notebooks/data_table.ipynb>data table notebook</a>'\n",
              "            + ' to learn more about interactive tables.';\n",
              "          element.innerHTML = '';\n",
              "          dataTable['output_type'] = 'display_data';\n",
              "          await google.colab.output.renderOutput(dataTable, element);\n",
              "          const docLink = document.createElement('div');\n",
              "          docLink.innerHTML = docLinkHtml;\n",
              "          element.appendChild(docLink);\n",
              "        }\n",
              "      </script>\n",
              "    </div>\n",
              "  </div>\n",
              "  "
            ],
            "text/plain": [
              "          Unnamed: 0  ...  NumberOfDependents\n",
              "count   76890.000000  ...        76890.000000\n",
              "mean    75092.319508  ...            0.518390\n",
              "std     43259.698005  ...            0.743525\n",
              "min        11.000000  ...            0.000000\n",
              "25%     37747.250000  ...            0.000000\n",
              "50%     75268.500000  ...            0.000000\n",
              "75%    112463.750000  ...            1.000000\n",
              "max    150000.000000  ...            2.000000\n",
              "\n",
              "[8 rows x 12 columns]"
            ]
          },
          "metadata": {},
          "execution_count": 19
        }
      ]
    },
    {
      "cell_type": "markdown",
      "source": [
        "Chuẩn hóa dữ liệu"
      ],
      "metadata": {
        "id": "N_GW3y2wBee6"
      }
    },
    {
      "cell_type": "code",
      "source": [
        "# phân bố dữ liệu trên cột MonthlyIncome\n",
        "sns.kdeplot(data = df3['MonthlyIncome'])"
      ],
      "metadata": {
        "colab": {
          "base_uri": "https://localhost:8080/",
          "height": 296
        },
        "id": "kaGzsaHVBcpu",
        "outputId": "8c239f78-1ca4-4b10-85e0-d3c6cdcc7dfb"
      },
      "execution_count": 20,
      "outputs": [
        {
          "output_type": "execute_result",
          "data": {
            "text/plain": [
              "<matplotlib.axes._subplots.AxesSubplot at 0x7fd84dbd8050>"
            ]
          },
          "metadata": {},
          "execution_count": 20
        },
        {
          "output_type": "display_data",
          "data": {
            "image/png": "[encoded data removed]",
            "text/plain": [
              "<Figure size 432x288 with 1 Axes>"
            ]
          },
          "metadata": {
            "needs_background": "light"
          }
        }
      ]
    },
    {
      "cell_type": "code",
      "source": [
        "# chuẩn hóa với minmax scaling\n",
        "scaler = MinMaxScaler()\n",
        "\n",
        "mms = scaler.fit_transform(pd.DataFrame(df3['MonthlyIncome']))"
      ],
      "metadata": {
        "id": "oegWfsMoBhPH"
      },
      "execution_count": 21,
      "outputs": []
    },
    {
      "cell_type": "code",
      "source": [
        "sns.kdeplot(data = mms)"
      ],
      "metadata": {
        "colab": {
          "base_uri": "https://localhost:8080/",
          "height": 282
        },
        "id": "lzJxfvSWBkgg",
        "outputId": "056d6c2a-f0dc-40fb-8ed6-8de61be25e14"
      },
      "execution_count": 22,
      "outputs": [
        {
          "output_type": "execute_result",
          "data": {
            "text/plain": [
              "<matplotlib.axes._subplots.AxesSubplot at 0x7fd84d893d90>"
            ]
          },
          "metadata": {},
          "execution_count": 22
        },
        {
          "output_type": "display_data",
          "data": {
            "image/png": "[encoded data removed]",
            "text/plain": [
              "<Figure size 432x288 with 1 Axes>"
            ]
          },
          "metadata": {
            "needs_background": "light"
          }
        }
      ]
    },
    {
      "cell_type": "code",
      "source": [
        "# chuẩn hóa với robust scaling\n",
        "scaler = RobustScaler()\n",
        "\n",
        "rbs = scaler.fit_transform(pd.DataFrame(df3['MonthlyIncome']))"
      ],
      "metadata": {
        "id": "2EE99j6UBlZl"
      },
      "execution_count": 23,
      "outputs": []
    },
    {
      "cell_type": "code",
      "source": [
        "sns.kdeplot(data = rbs)"
      ],
      "metadata": {
        "colab": {
          "base_uri": "https://localhost:8080/",
          "height": 282
        },
        "id": "nLVZGhCIBm_Q",
        "outputId": "d85421c8-c606-4ea8-c6d6-e42db223e80f"
      },
      "execution_count": 24,
      "outputs": [
        {
          "output_type": "execute_result",
          "data": {
            "text/plain": [
              "<matplotlib.axes._subplots.AxesSubplot at 0x7fd84da77f50>"
            ]
          },
          "metadata": {},
          "execution_count": 24
        },
        {
          "output_type": "display_data",
          "data": {
            "image/png": "[encoded data removed]",
            "text/plain": [
              "<Figure size 432x288 with 1 Axes>"
            ]
          },
          "metadata": {
            "needs_background": "light"
          }
        }
      ]
    },
    {
      "cell_type": "code",
      "source": [
        "# chuẩn hóa với standard scaling\n",
        "scaler = StandardScaler()\n",
        "\n",
        "sc = scaler.fit_transform(pd.DataFrame(df3['MonthlyIncome']))"
      ],
      "metadata": {
        "id": "4jE4vuI4Bn9M"
      },
      "execution_count": 25,
      "outputs": []
    },
    {
      "cell_type": "code",
      "source": [
        "sns.kdeplot(data = sc)"
      ],
      "metadata": {
        "colab": {
          "base_uri": "https://localhost:8080/",
          "height": 282
        },
        "id": "A2df0R3yBpYE",
        "outputId": "01ecd17c-e4cb-458c-b3b5-6a2fa7f47ebf"
      },
      "execution_count": 26,
      "outputs": [
        {
          "output_type": "execute_result",
          "data": {
            "text/plain": [
              "<matplotlib.axes._subplots.AxesSubplot at 0x7fd84b8c6ad0>"
            ]
          },
          "metadata": {},
          "execution_count": 26
        },
        {
          "output_type": "display_data",
          "data": {
            "image/png": "[encoded data removed]",
            "text/plain": [
              "<Figure size 432x288 with 1 Axes>"
            ]
          },
          "metadata": {
            "needs_background": "light"
          }
        }
      ]
    },
    {
      "cell_type": "code",
      "source": [
        ""
      ],
      "metadata": {
        "id": "prWZ9qq5Bqpe"
      },
      "execution_count": null,
      "outputs": []
    }
  ]
}